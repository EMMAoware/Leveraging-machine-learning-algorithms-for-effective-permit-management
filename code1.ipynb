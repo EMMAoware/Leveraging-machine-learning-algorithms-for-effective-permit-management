{
 "cells": [
  {
   "cell_type": "code",
   "execution_count": 1,
   "id": "04483710",
   "metadata": {},
   "outputs": [],
   "source": [
    "import pandas as pd\n",
    "import numpy as np\n",
    "import seaborn as sns\n",
    "import matplotlib.pyplot as plt"
   ]
  },
  {
   "cell_type": "code",
   "execution_count": 2,
   "id": "c2b21125",
   "metadata": {},
   "outputs": [],
   "source": [
    "df1 = pd.read_excel(\"C:/Users/Kwame/Desktop/DS/PU/Project Work/Permit 2021.xlsx\")\n",
    "df2 = pd.read_excel(\"C:/Users/Kwame/Desktop/DS/PU/Project Work/Permits 2020.xlsx\")"
   ]
  },
  {
   "cell_type": "code",
   "execution_count": 3,
   "id": "604b4f5a",
   "metadata": {},
   "outputs": [
    {
     "data": {
      "text/html": [
       "<div>\n",
       "<style scoped>\n",
       "    .dataframe tbody tr th:only-of-type {\n",
       "        vertical-align: middle;\n",
       "    }\n",
       "\n",
       "    .dataframe tbody tr th {\n",
       "        vertical-align: top;\n",
       "    }\n",
       "\n",
       "    .dataframe thead th {\n",
       "        text-align: right;\n",
       "    }\n",
       "</style>\n",
       "<table border=\"1\" class=\"dataframe\">\n",
       "  <thead>\n",
       "    <tr style=\"text-align: right;\">\n",
       "      <th></th>\n",
       "      <th>Date Prepared</th>\n",
       "      <th>Chemical Name</th>\n",
       "      <th>Exporting/Importing Country</th>\n",
       "      <th>Quantity</th>\n",
       "      <th>Unit(Kg/L)</th>\n",
       "      <th>Permit Type</th>\n",
       "      <th>Permit Number</th>\n",
       "      <th>Amount Paid</th>\n",
       "      <th>Date Issued</th>\n",
       "    </tr>\n",
       "  </thead>\n",
       "  <tbody>\n",
       "    <tr>\n",
       "      <th>0</th>\n",
       "      <td>2020-12-17</td>\n",
       "      <td>TOLUENE-DI ISOCYANATE</td>\n",
       "      <td>China</td>\n",
       "      <td>160000.0</td>\n",
       "      <td>Kg</td>\n",
       "      <td>CLEARANCE PERMIT</td>\n",
       "      <td>NCCIP043202000317/12</td>\n",
       "      <td>2000.0</td>\n",
       "      <td>2021-01-05 00:00:00</td>\n",
       "    </tr>\n",
       "    <tr>\n",
       "      <th>1</th>\n",
       "      <td>2020-12-21</td>\n",
       "      <td>METHYL ETHYL KETONE</td>\n",
       "      <td>India</td>\n",
       "      <td>1330.0</td>\n",
       "      <td>Kg</td>\n",
       "      <td>CLEARANCE PERMIT</td>\n",
       "      <td>NCCIP028202000321/12</td>\n",
       "      <td>100.0</td>\n",
       "      <td>2021-01-05 00:00:00</td>\n",
       "    </tr>\n",
       "  </tbody>\n",
       "</table>\n",
       "</div>"
      ],
      "text/plain": [
       "  Date Prepared         Chemical Name  Exporting/Importing Country  Quantity  \\\n",
       "0    2020-12-17  TOLUENE-DI ISOCYANATE                       China  160000.0   \n",
       "1    2020-12-21    METHYL ETHYL KETONE                       India    1330.0   \n",
       "\n",
       "  Unit(Kg/L)       Permit Type         Permit Number  Amount Paid  \\\n",
       "0         Kg  CLEARANCE PERMIT  NCCIP043202000317/12       2000.0   \n",
       "1         Kg  CLEARANCE PERMIT  NCCIP028202000321/12        100.0   \n",
       "\n",
       "          Date Issued   \n",
       "0  2021-01-05 00:00:00  \n",
       "1  2021-01-05 00:00:00  "
      ]
     },
     "execution_count": 3,
     "metadata": {},
     "output_type": "execute_result"
    }
   ],
   "source": [
    "df1.head(2)"
   ]
  },
  {
   "cell_type": "code",
   "execution_count": 4,
   "id": "e83775e4",
   "metadata": {},
   "outputs": [
    {
     "data": {
      "text/html": [
       "<div>\n",
       "<style scoped>\n",
       "    .dataframe tbody tr th:only-of-type {\n",
       "        vertical-align: middle;\n",
       "    }\n",
       "\n",
       "    .dataframe tbody tr th {\n",
       "        vertical-align: top;\n",
       "    }\n",
       "\n",
       "    .dataframe thead th {\n",
       "        text-align: right;\n",
       "    }\n",
       "</style>\n",
       "<table border=\"1\" class=\"dataframe\">\n",
       "  <thead>\n",
       "    <tr style=\"text-align: right;\">\n",
       "      <th></th>\n",
       "      <th>Date Prepared</th>\n",
       "      <th>Chemical Name</th>\n",
       "      <th>Exporting/Importing Country</th>\n",
       "      <th>Quantity</th>\n",
       "      <th>Unit(Kg/L)</th>\n",
       "      <th>Permit Type</th>\n",
       "      <th>Permit Number</th>\n",
       "      <th>Amount Paid</th>\n",
       "      <th>Date Issued</th>\n",
       "    </tr>\n",
       "  </thead>\n",
       "  <tbody>\n",
       "    <tr>\n",
       "      <th>0</th>\n",
       "      <td>2019-09-18</td>\n",
       "      <td>METHYL ETHYL KETONE</td>\n",
       "      <td>Netherlands</td>\n",
       "      <td>405.0</td>\n",
       "      <td>L</td>\n",
       "      <td>CLEARANCE PERMIT</td>\n",
       "      <td>NCBIPO28201900250/09</td>\n",
       "      <td>100.0</td>\n",
       "      <td>2020-02-07</td>\n",
       "    </tr>\n",
       "    <tr>\n",
       "      <th>1</th>\n",
       "      <td>2019-12-11</td>\n",
       "      <td>HYDROCHLORIC ACID</td>\n",
       "      <td>South Africa</td>\n",
       "      <td>115000.0</td>\n",
       "      <td>Kg</td>\n",
       "      <td>CLEARANCE PERMIT</td>\n",
       "      <td>NCBIP026201900296/12</td>\n",
       "      <td>1437.5</td>\n",
       "      <td>2020-01-13</td>\n",
       "    </tr>\n",
       "  </tbody>\n",
       "</table>\n",
       "</div>"
      ],
      "text/plain": [
       "  Date Prepared       Chemical Name  Exporting/Importing Country  Quantity  \\\n",
       "0    2019-09-18  METHYL ETHYL KETONE                 Netherlands     405.0   \n",
       "1    2019-12-11    HYDROCHLORIC ACID               South Africa   115000.0   \n",
       "\n",
       "  Unit(Kg/L)       Permit Type         Permit Number  Amount Paid Date Issued   \n",
       "0          L  CLEARANCE PERMIT  NCBIPO28201900250/09        100.0   2020-02-07  \n",
       "1         Kg  CLEARANCE PERMIT  NCBIP026201900296/12       1437.5   2020-01-13  "
      ]
     },
     "execution_count": 4,
     "metadata": {},
     "output_type": "execute_result"
    }
   ],
   "source": [
    "df2.head(2)"
   ]
  },
  {
   "cell_type": "code",
   "execution_count": 5,
   "id": "7ec094dd",
   "metadata": {},
   "outputs": [],
   "source": [
    "new_data = df1.append(df2, ignore_index=False, verify_integrity=False, sort=None)"
   ]
  },
  {
   "cell_type": "code",
   "execution_count": 6,
   "id": "42273120",
   "metadata": {},
   "outputs": [
    {
     "data": {
      "text/plain": [
       "(1039, 9)"
      ]
     },
     "execution_count": 6,
     "metadata": {},
     "output_type": "execute_result"
    }
   ],
   "source": [
    "new_data.shape"
   ]
  },
  {
   "cell_type": "code",
   "execution_count": 7,
   "id": "09d0b9ee",
   "metadata": {},
   "outputs": [
    {
     "data": {
      "text/plain": [
       "(522, 9)"
      ]
     },
     "execution_count": 7,
     "metadata": {},
     "output_type": "execute_result"
    }
   ],
   "source": [
    "df1.shape"
   ]
  },
  {
   "cell_type": "code",
   "execution_count": 8,
   "id": "60b4e96d",
   "metadata": {},
   "outputs": [
    {
     "data": {
      "text/plain": [
       "(517, 9)"
      ]
     },
     "execution_count": 8,
     "metadata": {},
     "output_type": "execute_result"
    }
   ],
   "source": [
    "df2.shape"
   ]
  },
  {
   "cell_type": "code",
   "execution_count": 9,
   "id": "98495861",
   "metadata": {},
   "outputs": [
    {
     "data": {
      "text/plain": [
       "Index(['Date Prepared', 'Chemical Name ', 'Exporting/Importing Country',\n",
       "       'Quantity', 'Unit(Kg/L)', 'Permit Type', 'Permit Number', 'Amount Paid',\n",
       "       'Date Issued '],\n",
       "      dtype='object')"
      ]
     },
     "execution_count": 9,
     "metadata": {},
     "output_type": "execute_result"
    }
   ],
   "source": [
    "df1.columns"
   ]
  },
  {
   "cell_type": "code",
   "execution_count": 10,
   "id": "38bdc587",
   "metadata": {},
   "outputs": [
    {
     "data": {
      "text/plain": [
       "Index(['Date Prepared', 'Chemical Name ', 'Exporting/Importing Country',\n",
       "       'Quantity', 'Unit(Kg/L)', 'Permit Type', 'Permit Number', 'Amount Paid',\n",
       "       'Date Issued '],\n",
       "      dtype='object')"
      ]
     },
     "execution_count": 10,
     "metadata": {},
     "output_type": "execute_result"
    }
   ],
   "source": [
    "df2.columns"
   ]
  },
  {
   "cell_type": "code",
   "execution_count": 11,
   "id": "545124b5",
   "metadata": {},
   "outputs": [],
   "source": [
    "new_data.to_excel('C:/Users/Kwame/Desktop/DS/PU/Project Work/new_data.xlsx',sheet_name=\"combined\")"
   ]
  },
  {
   "cell_type": "code",
   "execution_count": 12,
   "id": "d9286bfa",
   "metadata": {},
   "outputs": [],
   "source": [
    "new_df = pd.read_excel(\"C:/Users/Kwame/Desktop/DS/PU/Project Work/new_data.xlsx\")"
   ]
  },
  {
   "cell_type": "code",
   "execution_count": 13,
   "id": "34beb59d",
   "metadata": {},
   "outputs": [
    {
     "data": {
      "text/html": [
       "<div>\n",
       "<style scoped>\n",
       "    .dataframe tbody tr th:only-of-type {\n",
       "        vertical-align: middle;\n",
       "    }\n",
       "\n",
       "    .dataframe tbody tr th {\n",
       "        vertical-align: top;\n",
       "    }\n",
       "\n",
       "    .dataframe thead th {\n",
       "        text-align: right;\n",
       "    }\n",
       "</style>\n",
       "<table border=\"1\" class=\"dataframe\">\n",
       "  <thead>\n",
       "    <tr style=\"text-align: right;\">\n",
       "      <th></th>\n",
       "      <th>Unnamed: 0</th>\n",
       "      <th>Date Prepared</th>\n",
       "      <th>Chemical Name</th>\n",
       "      <th>Exporting/Importing Country</th>\n",
       "      <th>Quantity</th>\n",
       "      <th>Unit(Kg/L)</th>\n",
       "      <th>Permit Type</th>\n",
       "      <th>Permit Number</th>\n",
       "      <th>Amount Paid</th>\n",
       "      <th>Date Issued</th>\n",
       "    </tr>\n",
       "  </thead>\n",
       "  <tbody>\n",
       "    <tr>\n",
       "      <th>0</th>\n",
       "      <td>0</td>\n",
       "      <td>2020-12-17</td>\n",
       "      <td>TOLUENE-DI ISOCYANATE</td>\n",
       "      <td>China</td>\n",
       "      <td>160000.0</td>\n",
       "      <td>Kg</td>\n",
       "      <td>CLEARANCE PERMIT</td>\n",
       "      <td>NCCIP043202000317/12</td>\n",
       "      <td>2000.0</td>\n",
       "      <td>2021-01-05 00:00:00</td>\n",
       "    </tr>\n",
       "    <tr>\n",
       "      <th>1</th>\n",
       "      <td>1</td>\n",
       "      <td>2020-12-21</td>\n",
       "      <td>METHYL ETHYL KETONE</td>\n",
       "      <td>India</td>\n",
       "      <td>1330.0</td>\n",
       "      <td>Kg</td>\n",
       "      <td>CLEARANCE PERMIT</td>\n",
       "      <td>NCCIP028202000321/12</td>\n",
       "      <td>100.0</td>\n",
       "      <td>2021-01-05 00:00:00</td>\n",
       "    </tr>\n",
       "  </tbody>\n",
       "</table>\n",
       "</div>"
      ],
      "text/plain": [
       "   Unnamed: 0 Date Prepared         Chemical Name   \\\n",
       "0           0    2020-12-17  TOLUENE-DI ISOCYANATE   \n",
       "1           1    2020-12-21    METHYL ETHYL KETONE   \n",
       "\n",
       "  Exporting/Importing Country  Quantity Unit(Kg/L)       Permit Type  \\\n",
       "0                       China  160000.0         Kg  CLEARANCE PERMIT   \n",
       "1                       India    1330.0         Kg  CLEARANCE PERMIT   \n",
       "\n",
       "          Permit Number  Amount Paid         Date Issued   \n",
       "0  NCCIP043202000317/12       2000.0  2021-01-05 00:00:00  \n",
       "1  NCCIP028202000321/12        100.0  2021-01-05 00:00:00  "
      ]
     },
     "execution_count": 13,
     "metadata": {},
     "output_type": "execute_result"
    }
   ],
   "source": [
    "new_df.head(2)"
   ]
  },
  {
   "cell_type": "code",
   "execution_count": 14,
   "id": "cd27f71e",
   "metadata": {},
   "outputs": [
    {
     "data": {
      "text/plain": [
       "(1039, 10)"
      ]
     },
     "execution_count": 14,
     "metadata": {},
     "output_type": "execute_result"
    }
   ],
   "source": [
    "new_df.shape"
   ]
  },
  {
   "cell_type": "code",
   "execution_count": 15,
   "id": "442263af",
   "metadata": {},
   "outputs": [
    {
     "data": {
      "text/plain": [
       "Unnamed: 0                              int64\n",
       "Date Prepared                  datetime64[ns]\n",
       "Chemical Name                          object\n",
       "Exporting/Importing Country            object\n",
       "Quantity                              float64\n",
       "Unit(Kg/L)                             object\n",
       "Permit Type                            object\n",
       "Permit Number                          object\n",
       "Amount Paid                           float64\n",
       "Date Issued                            object\n",
       "dtype: object"
      ]
     },
     "execution_count": 15,
     "metadata": {},
     "output_type": "execute_result"
    }
   ],
   "source": [
    "new_df.dtypes"
   ]
  },
  {
   "cell_type": "code",
   "execution_count": 16,
   "id": "fbb206a1",
   "metadata": {},
   "outputs": [
    {
     "data": {
      "text/html": [
       "<div>\n",
       "<style scoped>\n",
       "    .dataframe tbody tr th:only-of-type {\n",
       "        vertical-align: middle;\n",
       "    }\n",
       "\n",
       "    .dataframe tbody tr th {\n",
       "        vertical-align: top;\n",
       "    }\n",
       "\n",
       "    .dataframe thead th {\n",
       "        text-align: right;\n",
       "    }\n",
       "</style>\n",
       "<table border=\"1\" class=\"dataframe\">\n",
       "  <thead>\n",
       "    <tr style=\"text-align: right;\">\n",
       "      <th></th>\n",
       "      <th>Unnamed: 0</th>\n",
       "      <th>Quantity</th>\n",
       "      <th>Amount Paid</th>\n",
       "    </tr>\n",
       "  </thead>\n",
       "  <tbody>\n",
       "    <tr>\n",
       "      <th>count</th>\n",
       "      <td>1039.000000</td>\n",
       "      <td>1039.000000</td>\n",
       "      <td>1020.000000</td>\n",
       "    </tr>\n",
       "    <tr>\n",
       "      <th>mean</th>\n",
       "      <td>259.256015</td>\n",
       "      <td>47647.951626</td>\n",
       "      <td>499.842779</td>\n",
       "    </tr>\n",
       "    <tr>\n",
       "      <th>std</th>\n",
       "      <td>150.049099</td>\n",
       "      <td>81727.719422</td>\n",
       "      <td>665.740733</td>\n",
       "    </tr>\n",
       "    <tr>\n",
       "      <th>min</th>\n",
       "      <td>0.000000</td>\n",
       "      <td>0.050000</td>\n",
       "      <td>30.000000</td>\n",
       "    </tr>\n",
       "    <tr>\n",
       "      <th>25%</th>\n",
       "      <td>129.500000</td>\n",
       "      <td>1296.000000</td>\n",
       "      <td>75.000000</td>\n",
       "    </tr>\n",
       "    <tr>\n",
       "      <th>50%</th>\n",
       "      <td>259.000000</td>\n",
       "      <td>24624.000000</td>\n",
       "      <td>174.000000</td>\n",
       "    </tr>\n",
       "    <tr>\n",
       "      <th>75%</th>\n",
       "      <td>389.000000</td>\n",
       "      <td>65640.000000</td>\n",
       "      <td>750.000000</td>\n",
       "    </tr>\n",
       "    <tr>\n",
       "      <th>max</th>\n",
       "      <td>521.000000</td>\n",
       "      <td>991800.000000</td>\n",
       "      <td>5933.250000</td>\n",
       "    </tr>\n",
       "  </tbody>\n",
       "</table>\n",
       "</div>"
      ],
      "text/plain": [
       "        Unnamed: 0       Quantity  Amount Paid\n",
       "count  1039.000000    1039.000000  1020.000000\n",
       "mean    259.256015   47647.951626   499.842779\n",
       "std     150.049099   81727.719422   665.740733\n",
       "min       0.000000       0.050000    30.000000\n",
       "25%     129.500000    1296.000000    75.000000\n",
       "50%     259.000000   24624.000000   174.000000\n",
       "75%     389.000000   65640.000000   750.000000\n",
       "max     521.000000  991800.000000  5933.250000"
      ]
     },
     "execution_count": 16,
     "metadata": {},
     "output_type": "execute_result"
    }
   ],
   "source": [
    "new_df.describe()"
   ]
  },
  {
   "cell_type": "code",
   "execution_count": 17,
   "id": "d2d7418f",
   "metadata": {},
   "outputs": [],
   "source": [
    "new_df = new_df.drop(['Unnamed: 0'], axis = 1)"
   ]
  },
  {
   "cell_type": "code",
   "execution_count": 18,
   "id": "d4ea82c6",
   "metadata": {},
   "outputs": [
    {
     "data": {
      "text/html": [
       "<div>\n",
       "<style scoped>\n",
       "    .dataframe tbody tr th:only-of-type {\n",
       "        vertical-align: middle;\n",
       "    }\n",
       "\n",
       "    .dataframe tbody tr th {\n",
       "        vertical-align: top;\n",
       "    }\n",
       "\n",
       "    .dataframe thead th {\n",
       "        text-align: right;\n",
       "    }\n",
       "</style>\n",
       "<table border=\"1\" class=\"dataframe\">\n",
       "  <thead>\n",
       "    <tr style=\"text-align: right;\">\n",
       "      <th></th>\n",
       "      <th>Quantity</th>\n",
       "      <th>Amount Paid</th>\n",
       "    </tr>\n",
       "  </thead>\n",
       "  <tbody>\n",
       "    <tr>\n",
       "      <th>count</th>\n",
       "      <td>1039.000000</td>\n",
       "      <td>1020.000000</td>\n",
       "    </tr>\n",
       "    <tr>\n",
       "      <th>mean</th>\n",
       "      <td>47647.951626</td>\n",
       "      <td>499.842779</td>\n",
       "    </tr>\n",
       "    <tr>\n",
       "      <th>std</th>\n",
       "      <td>81727.719422</td>\n",
       "      <td>665.740733</td>\n",
       "    </tr>\n",
       "    <tr>\n",
       "      <th>min</th>\n",
       "      <td>0.050000</td>\n",
       "      <td>30.000000</td>\n",
       "    </tr>\n",
       "    <tr>\n",
       "      <th>25%</th>\n",
       "      <td>1296.000000</td>\n",
       "      <td>75.000000</td>\n",
       "    </tr>\n",
       "    <tr>\n",
       "      <th>50%</th>\n",
       "      <td>24624.000000</td>\n",
       "      <td>174.000000</td>\n",
       "    </tr>\n",
       "    <tr>\n",
       "      <th>75%</th>\n",
       "      <td>65640.000000</td>\n",
       "      <td>750.000000</td>\n",
       "    </tr>\n",
       "    <tr>\n",
       "      <th>max</th>\n",
       "      <td>991800.000000</td>\n",
       "      <td>5933.250000</td>\n",
       "    </tr>\n",
       "  </tbody>\n",
       "</table>\n",
       "</div>"
      ],
      "text/plain": [
       "            Quantity  Amount Paid\n",
       "count    1039.000000  1020.000000\n",
       "mean    47647.951626   499.842779\n",
       "std     81727.719422   665.740733\n",
       "min         0.050000    30.000000\n",
       "25%      1296.000000    75.000000\n",
       "50%     24624.000000   174.000000\n",
       "75%     65640.000000   750.000000\n",
       "max    991800.000000  5933.250000"
      ]
     },
     "execution_count": 18,
     "metadata": {},
     "output_type": "execute_result"
    }
   ],
   "source": [
    "new_df.describe()"
   ]
  },
  {
   "cell_type": "code",
   "execution_count": 19,
   "id": "d2b95c91",
   "metadata": {},
   "outputs": [
    {
     "data": {
      "text/plain": [
       "<AxesSubplot:title={'center':'Bar plot of the Types of Permits'}, xlabel='Permit Type', ylabel='count'>"
      ]
     },
     "execution_count": 19,
     "metadata": {},
     "output_type": "execute_result"
    },
    {
     "data": {
      "image/png": "[encoded data removed]",
      "text/plain": [
       "<Figure size 720x360 with 1 Axes>"
      ]
     },
     "metadata": {
      "needs_background": "light"
     },
     "output_type": "display_data"
    }
   ],
   "source": [
    "plt.figure(figsize=(10,5))\n",
    "plt.title('Bar plot of the Types of Permits')\n",
    "sns.countplot(x='Permit Type',data=new_df)"
   ]
  },
  {
   "cell_type": "code",
   "execution_count": 20,
   "id": "eedec9fb",
   "metadata": {},
   "outputs": [
    {
     "data": {
      "text/plain": [
       "CLEARANCE PERMIT        664\n",
       "IMPORT AUTHORIZATION    311\n",
       "EXPORT PERMIT            39\n",
       "LOCAL PURCHASE AUTH.     25\n",
       "Name: Permit Type, dtype: int64"
      ]
     },
     "execution_count": 20,
     "metadata": {},
     "output_type": "execute_result"
    }
   ],
   "source": [
    "new_df['Permit Type'].value_counts()"
   ]
  },
  {
   "cell_type": "code",
   "execution_count": 21,
   "id": "c5b7cdc3",
   "metadata": {},
   "outputs": [
    {
     "data": {
      "text/html": [
       "<div>\n",
       "<style scoped>\n",
       "    .dataframe tbody tr th:only-of-type {\n",
       "        vertical-align: middle;\n",
       "    }\n",
       "\n",
       "    .dataframe tbody tr th {\n",
       "        vertical-align: top;\n",
       "    }\n",
       "\n",
       "    .dataframe thead th {\n",
       "        text-align: right;\n",
       "    }\n",
       "</style>\n",
       "<table border=\"1\" class=\"dataframe\">\n",
       "  <thead>\n",
       "    <tr style=\"text-align: right;\">\n",
       "      <th>Permit Type</th>\n",
       "      <th>CLEARANCE PERMIT</th>\n",
       "      <th>EXPORT PERMIT</th>\n",
       "      <th>IMPORT AUTHORIZATION</th>\n",
       "      <th>LOCAL PURCHASE AUTH.</th>\n",
       "    </tr>\n",
       "    <tr>\n",
       "      <th>Chemical Name</th>\n",
       "      <th></th>\n",
       "      <th></th>\n",
       "      <th></th>\n",
       "      <th></th>\n",
       "    </tr>\n",
       "  </thead>\n",
       "  <tbody>\n",
       "    <tr>\n",
       "      <th>ACETIC ANHYDRIDE</th>\n",
       "      <td>1</td>\n",
       "      <td>0</td>\n",
       "      <td>5</td>\n",
       "      <td>0</td>\n",
       "    </tr>\n",
       "    <tr>\n",
       "      <th>ACETONE</th>\n",
       "      <td>65</td>\n",
       "      <td>0</td>\n",
       "      <td>43</td>\n",
       "      <td>0</td>\n",
       "    </tr>\n",
       "    <tr>\n",
       "      <th>CHLOROFORM</th>\n",
       "      <td>11</td>\n",
       "      <td>0</td>\n",
       "      <td>6</td>\n",
       "      <td>0</td>\n",
       "    </tr>\n",
       "    <tr>\n",
       "      <th>ETHYL ETHER</th>\n",
       "      <td>6</td>\n",
       "      <td>0</td>\n",
       "      <td>9</td>\n",
       "      <td>0</td>\n",
       "    </tr>\n",
       "    <tr>\n",
       "      <th>HYDROCHLORIC ACID</th>\n",
       "      <td>168</td>\n",
       "      <td>27</td>\n",
       "      <td>43</td>\n",
       "      <td>0</td>\n",
       "    </tr>\n",
       "    <tr>\n",
       "      <th>METHYL ETHYL KETONE</th>\n",
       "      <td>53</td>\n",
       "      <td>1</td>\n",
       "      <td>48</td>\n",
       "      <td>0</td>\n",
       "    </tr>\n",
       "    <tr>\n",
       "      <th>PHENYL ACETIC ACID</th>\n",
       "      <td>4</td>\n",
       "      <td>0</td>\n",
       "      <td>0</td>\n",
       "      <td>0</td>\n",
       "    </tr>\n",
       "    <tr>\n",
       "      <th>POTASSIUM PERMANGANATE</th>\n",
       "      <td>1</td>\n",
       "      <td>0</td>\n",
       "      <td>3</td>\n",
       "      <td>24</td>\n",
       "    </tr>\n",
       "    <tr>\n",
       "      <th>SULPHURIC ACID</th>\n",
       "      <td>151</td>\n",
       "      <td>11</td>\n",
       "      <td>20</td>\n",
       "      <td>1</td>\n",
       "    </tr>\n",
       "    <tr>\n",
       "      <th>TOLUENE</th>\n",
       "      <td>89</td>\n",
       "      <td>0</td>\n",
       "      <td>134</td>\n",
       "      <td>0</td>\n",
       "    </tr>\n",
       "    <tr>\n",
       "      <th>TOLUENE-DI ISOCYANATE</th>\n",
       "      <td>115</td>\n",
       "      <td>0</td>\n",
       "      <td>0</td>\n",
       "      <td>0</td>\n",
       "    </tr>\n",
       "  </tbody>\n",
       "</table>\n",
       "</div>"
      ],
      "text/plain": [
       "Permit Type             CLEARANCE PERMIT  EXPORT PERMIT  IMPORT AUTHORIZATION  \\\n",
       "Chemical Name                                                                   \n",
       "ACETIC ANHYDRIDE                       1              0                     5   \n",
       "ACETONE                               65              0                    43   \n",
       "CHLOROFORM                            11              0                     6   \n",
       "ETHYL ETHER                            6              0                     9   \n",
       "HYDROCHLORIC ACID                    168             27                    43   \n",
       "METHYL ETHYL KETONE                   53              1                    48   \n",
       "PHENYL ACETIC ACID                     4              0                     0   \n",
       "POTASSIUM PERMANGANATE                 1              0                     3   \n",
       "SULPHURIC ACID                       151             11                    20   \n",
       "TOLUENE                               89              0                   134   \n",
       "TOLUENE-DI ISOCYANATE                115              0                     0   \n",
       "\n",
       "Permit Type             LOCAL PURCHASE AUTH.  \n",
       "Chemical Name                                 \n",
       "ACETIC ANHYDRIDE                           0  \n",
       "ACETONE                                    0  \n",
       "CHLOROFORM                                 0  \n",
       "ETHYL ETHER                                0  \n",
       "HYDROCHLORIC ACID                          0  \n",
       "METHYL ETHYL KETONE                        0  \n",
       "PHENYL ACETIC ACID                         0  \n",
       "POTASSIUM PERMANGANATE                    24  \n",
       "SULPHURIC ACID                             1  \n",
       "TOLUENE                                    0  \n",
       "TOLUENE-DI ISOCYANATE                      0  "
      ]
     },
     "execution_count": 21,
     "metadata": {},
     "output_type": "execute_result"
    }
   ],
   "source": [
    "pd.crosstab(new_df['Chemical Name '],new_df['Permit Type'])"
   ]
  },
  {
   "cell_type": "code",
   "execution_count": 22,
   "id": "0037b4fc",
   "metadata": {},
   "outputs": [
    {
     "data": {
      "text/plain": [
       "<AxesSubplot:title={'center':'Bar plot of Permits issued for various chemicals against Amount paid'}, xlabel='Amount Paid', ylabel='Chemical Name '>"
      ]
     },
     "execution_count": 22,
     "metadata": {},
     "output_type": "execute_result"
    },
    {
     "data": {
      "image/png": "[encoded data removed]",
      "text/plain": [
       "<Figure size 1080x360 with 1 Axes>"
      ]
     },
     "metadata": {
      "needs_background": "light"
     },
     "output_type": "display_data"
    }
   ],
   "source": [
    "plt.figure(figsize=(15,5))\n",
    "plt.title('Bar plot of Permits issued for various chemicals against Amount paid')\n",
    "sns.barplot(x='Amount Paid', y='Chemical Name ', data=new_df)"
   ]
  },
  {
   "cell_type": "code",
   "execution_count": 23,
   "id": "b7ea1de4",
   "metadata": {},
   "outputs": [
    {
     "data": {
      "text/html": [
       "<div>\n",
       "<style scoped>\n",
       "    .dataframe tbody tr th:only-of-type {\n",
       "        vertical-align: middle;\n",
       "    }\n",
       "\n",
       "    .dataframe tbody tr th {\n",
       "        vertical-align: top;\n",
       "    }\n",
       "\n",
       "    .dataframe thead th {\n",
       "        text-align: right;\n",
       "    }\n",
       "</style>\n",
       "<table border=\"1\" class=\"dataframe\">\n",
       "  <thead>\n",
       "    <tr style=\"text-align: right;\">\n",
       "      <th></th>\n",
       "      <th>Date Prepared</th>\n",
       "      <th>Chemical Name</th>\n",
       "      <th>Exporting/Importing Country</th>\n",
       "      <th>Quantity</th>\n",
       "      <th>Unit(Kg/L)</th>\n",
       "      <th>Permit Type</th>\n",
       "      <th>Permit Number</th>\n",
       "      <th>Amount Paid</th>\n",
       "      <th>Date Issued</th>\n",
       "    </tr>\n",
       "  </thead>\n",
       "  <tbody>\n",
       "    <tr>\n",
       "      <th>0</th>\n",
       "      <td>2020-12-17</td>\n",
       "      <td>TOLUENE-DI ISOCYANATE</td>\n",
       "      <td>China</td>\n",
       "      <td>160000.0</td>\n",
       "      <td>Kg</td>\n",
       "      <td>CLEARANCE PERMIT</td>\n",
       "      <td>NCCIP043202000317/12</td>\n",
       "      <td>2000.00</td>\n",
       "      <td>2021-01-05 00:00:00</td>\n",
       "    </tr>\n",
       "    <tr>\n",
       "      <th>1</th>\n",
       "      <td>2020-12-21</td>\n",
       "      <td>METHYL ETHYL KETONE</td>\n",
       "      <td>India</td>\n",
       "      <td>1330.0</td>\n",
       "      <td>Kg</td>\n",
       "      <td>CLEARANCE PERMIT</td>\n",
       "      <td>NCCIP028202000321/12</td>\n",
       "      <td>100.00</td>\n",
       "      <td>2021-01-05 00:00:00</td>\n",
       "    </tr>\n",
       "    <tr>\n",
       "      <th>2</th>\n",
       "      <td>2021-01-05</td>\n",
       "      <td>HYDROCHLORIC ACID</td>\n",
       "      <td>Belgium</td>\n",
       "      <td>45500.0</td>\n",
       "      <td>Kg</td>\n",
       "      <td>CLEARANCE PERMIT</td>\n",
       "      <td>NCCCP0262021001/01</td>\n",
       "      <td>568.75</td>\n",
       "      <td>2021-01-06 00:00:00</td>\n",
       "    </tr>\n",
       "    <tr>\n",
       "      <th>3</th>\n",
       "      <td>2021-01-05</td>\n",
       "      <td>TOLUENE</td>\n",
       "      <td>UAE</td>\n",
       "      <td>7560.0</td>\n",
       "      <td>Kg</td>\n",
       "      <td>IMPORT AUTHORIZATION</td>\n",
       "      <td>IP2021-043NCC001/01</td>\n",
       "      <td>75.00</td>\n",
       "      <td>2021-01-06 00:00:00</td>\n",
       "    </tr>\n",
       "    <tr>\n",
       "      <th>4</th>\n",
       "      <td>2021-01-05</td>\n",
       "      <td>TOLUENE</td>\n",
       "      <td>Germany</td>\n",
       "      <td>28800.0</td>\n",
       "      <td>Kg</td>\n",
       "      <td>IMPORT AUTHORIZATION</td>\n",
       "      <td>IP2021-043NCC002/01</td>\n",
       "      <td>75.00</td>\n",
       "      <td>2021-01-12 00:00:00</td>\n",
       "    </tr>\n",
       "    <tr>\n",
       "      <th>...</th>\n",
       "      <td>...</td>\n",
       "      <td>...</td>\n",
       "      <td>...</td>\n",
       "      <td>...</td>\n",
       "      <td>...</td>\n",
       "      <td>...</td>\n",
       "      <td>...</td>\n",
       "      <td>...</td>\n",
       "      <td>...</td>\n",
       "    </tr>\n",
       "    <tr>\n",
       "      <th>1032</th>\n",
       "      <td>2020-12-17</td>\n",
       "      <td>TOLUENE-DI ISOCYANATE</td>\n",
       "      <td>China</td>\n",
       "      <td>100000.0</td>\n",
       "      <td>Kg</td>\n",
       "      <td>CLEARANCE PERMIT</td>\n",
       "      <td>NCCIP043202000319/12</td>\n",
       "      <td>1250.00</td>\n",
       "      <td>2020-12-22 00:00:00</td>\n",
       "    </tr>\n",
       "    <tr>\n",
       "      <th>1034</th>\n",
       "      <td>2020-12-22</td>\n",
       "      <td>SULPHURIC ACID</td>\n",
       "      <td>Belgium</td>\n",
       "      <td>24624.0</td>\n",
       "      <td>Kg</td>\n",
       "      <td>CLEARANCE PERMIT</td>\n",
       "      <td>NCCIP017202000322/12</td>\n",
       "      <td>307.80</td>\n",
       "      <td>2020-12-30 00:00:00</td>\n",
       "    </tr>\n",
       "    <tr>\n",
       "      <th>1036</th>\n",
       "      <td>2020-12-29</td>\n",
       "      <td>TOLUENE</td>\n",
       "      <td>South Korea</td>\n",
       "      <td>27840.0</td>\n",
       "      <td>Kg</td>\n",
       "      <td>CLEARANCE PERMIT</td>\n",
       "      <td>NCCIP017202000324/12</td>\n",
       "      <td>348.00</td>\n",
       "      <td>2020-12-30 00:00:00</td>\n",
       "    </tr>\n",
       "    <tr>\n",
       "      <th>1037</th>\n",
       "      <td>2020-12-29</td>\n",
       "      <td>TOLUENE</td>\n",
       "      <td>South Korea</td>\n",
       "      <td>41760.0</td>\n",
       "      <td>Kg</td>\n",
       "      <td>CLEARANCE PERMIT</td>\n",
       "      <td>NCCIP043202000325/12</td>\n",
       "      <td>522.00</td>\n",
       "      <td>2020-12-30 00:00:00</td>\n",
       "    </tr>\n",
       "    <tr>\n",
       "      <th>1038</th>\n",
       "      <td>2020-12-29</td>\n",
       "      <td>ACETONE</td>\n",
       "      <td>South Africa</td>\n",
       "      <td>38400.0</td>\n",
       "      <td>Kg</td>\n",
       "      <td>IMPORT AUTHORIZATION</td>\n",
       "      <td>IA2020-027NCC00145/12</td>\n",
       "      <td>75.00</td>\n",
       "      <td>2020-12-30 00:00:00</td>\n",
       "    </tr>\n",
       "  </tbody>\n",
       "</table>\n",
       "<p>828 rows × 9 columns</p>\n",
       "</div>"
      ],
      "text/plain": [
       "     Date Prepared         Chemical Name  Exporting/Importing Country  \\\n",
       "0       2020-12-17  TOLUENE-DI ISOCYANATE                       China   \n",
       "1       2020-12-21    METHYL ETHYL KETONE                       India   \n",
       "2       2021-01-05      HYDROCHLORIC ACID                    Belgium    \n",
       "3       2021-01-05                TOLUENE                         UAE   \n",
       "4       2021-01-05                TOLUENE                     Germany   \n",
       "...            ...                    ...                         ...   \n",
       "1032    2020-12-17  TOLUENE-DI ISOCYANATE                       China   \n",
       "1034    2020-12-22         SULPHURIC ACID                    Belgium    \n",
       "1036    2020-12-29                TOLUENE                 South Korea   \n",
       "1037    2020-12-29                TOLUENE                 South Korea   \n",
       "1038    2020-12-29                ACETONE               South Africa    \n",
       "\n",
       "      Quantity Unit(Kg/L)           Permit Type          Permit Number  \\\n",
       "0     160000.0         Kg      CLEARANCE PERMIT   NCCIP043202000317/12   \n",
       "1       1330.0         Kg      CLEARANCE PERMIT   NCCIP028202000321/12   \n",
       "2      45500.0         Kg      CLEARANCE PERMIT     NCCCP0262021001/01   \n",
       "3       7560.0         Kg  IMPORT AUTHORIZATION    IP2021-043NCC001/01   \n",
       "4      28800.0         Kg  IMPORT AUTHORIZATION    IP2021-043NCC002/01   \n",
       "...        ...        ...                   ...                    ...   \n",
       "1032  100000.0         Kg      CLEARANCE PERMIT   NCCIP043202000319/12   \n",
       "1034   24624.0         Kg      CLEARANCE PERMIT   NCCIP017202000322/12   \n",
       "1036   27840.0         Kg      CLEARANCE PERMIT   NCCIP017202000324/12   \n",
       "1037   41760.0         Kg      CLEARANCE PERMIT   NCCIP043202000325/12   \n",
       "1038   38400.0         Kg  IMPORT AUTHORIZATION  IA2020-027NCC00145/12   \n",
       "\n",
       "      Amount Paid         Date Issued   \n",
       "0         2000.00  2021-01-05 00:00:00  \n",
       "1          100.00  2021-01-05 00:00:00  \n",
       "2          568.75  2021-01-06 00:00:00  \n",
       "3           75.00  2021-01-06 00:00:00  \n",
       "4           75.00  2021-01-12 00:00:00  \n",
       "...           ...                  ...  \n",
       "1032      1250.00  2020-12-22 00:00:00  \n",
       "1034       307.80  2020-12-30 00:00:00  \n",
       "1036       348.00  2020-12-30 00:00:00  \n",
       "1037       522.00  2020-12-30 00:00:00  \n",
       "1038        75.00  2020-12-30 00:00:00  \n",
       "\n",
       "[828 rows x 9 columns]"
      ]
     },
     "execution_count": 23,
     "metadata": {},
     "output_type": "execute_result"
    }
   ],
   "source": [
    "new_df[new_df['Unit(Kg/L)'].str.contains('Kg')]"
   ]
  },
  {
   "cell_type": "code",
   "execution_count": 24,
   "id": "91b9b7b2",
   "metadata": {},
   "outputs": [],
   "source": [
    "df_kg = new_df[new_df['Unit(Kg/L)'].str.contains('Kg')]"
   ]
  },
  {
   "cell_type": "code",
   "execution_count": 25,
   "id": "177c79fa",
   "metadata": {
    "scrolled": true
   },
   "outputs": [
    {
     "data": {
      "text/plain": [
       "<AxesSubplot:title={'center':'Bar plot of Precursor Chemicals Imported in Kilos'}, xlabel='Quantity', ylabel='Chemical Name '>"
      ]
     },
     "execution_count": 25,
     "metadata": {},
     "output_type": "execute_result"
    },
    {
     "data": {
      "image/png": "[encoded data removed]",
      "text/plain": [
       "<Figure size 1080x360 with 1 Axes>"
      ]
     },
     "metadata": {
      "needs_background": "light"
     },
     "output_type": "display_data"
    }
   ],
   "source": [
    "plt.figure(figsize=(15,5))\n",
    "plt.title('Bar plot of Precursor Chemicals Imported in Kilos')\n",
    "sns.barplot(x='Quantity', y='Chemical Name ', data=df_kg)"
   ]
  },
  {
   "cell_type": "code",
   "execution_count": 26,
   "id": "52a7c209",
   "metadata": {},
   "outputs": [],
   "source": [
    "df_L = new_df[new_df['Unit(Kg/L)'].str.contains('L')]"
   ]
  },
  {
   "cell_type": "code",
   "execution_count": 27,
   "id": "65ad1186",
   "metadata": {},
   "outputs": [
    {
     "data": {
      "text/html": [
       "<div>\n",
       "<style scoped>\n",
       "    .dataframe tbody tr th:only-of-type {\n",
       "        vertical-align: middle;\n",
       "    }\n",
       "\n",
       "    .dataframe tbody tr th {\n",
       "        vertical-align: top;\n",
       "    }\n",
       "\n",
       "    .dataframe thead th {\n",
       "        text-align: right;\n",
       "    }\n",
       "</style>\n",
       "<table border=\"1\" class=\"dataframe\">\n",
       "  <thead>\n",
       "    <tr style=\"text-align: right;\">\n",
       "      <th></th>\n",
       "      <th>Date Prepared</th>\n",
       "      <th>Chemical Name</th>\n",
       "      <th>Exporting/Importing Country</th>\n",
       "      <th>Quantity</th>\n",
       "      <th>Unit(Kg/L)</th>\n",
       "      <th>Permit Type</th>\n",
       "      <th>Permit Number</th>\n",
       "      <th>Amount Paid</th>\n",
       "      <th>Date Issued</th>\n",
       "    </tr>\n",
       "  </thead>\n",
       "  <tbody>\n",
       "    <tr>\n",
       "      <th>8</th>\n",
       "      <td>2021-01-06</td>\n",
       "      <td>METHYL ETHYL KETONE</td>\n",
       "      <td>Belgium</td>\n",
       "      <td>1254.4</td>\n",
       "      <td>L</td>\n",
       "      <td>CLEARANCE PERMIT</td>\n",
       "      <td>NCCCP0282021004/01</td>\n",
       "      <td>100.0</td>\n",
       "      <td>2021-01-11 00:00:00</td>\n",
       "    </tr>\n",
       "    <tr>\n",
       "      <th>21</th>\n",
       "      <td>2021-01-14</td>\n",
       "      <td>HYDROCHLORIC ACID</td>\n",
       "      <td>UK</td>\n",
       "      <td>4.0</td>\n",
       "      <td>L</td>\n",
       "      <td>IMPORT AUTHORIZATION</td>\n",
       "      <td>IP2021-026NCC005/01</td>\n",
       "      <td>75.0</td>\n",
       "      <td>2021-01-21 00:00:00</td>\n",
       "    </tr>\n",
       "  </tbody>\n",
       "</table>\n",
       "</div>"
      ],
      "text/plain": [
       "   Date Prepared       Chemical Name  Exporting/Importing Country  Quantity  \\\n",
       "8     2021-01-06  METHYL ETHYL KETONE                    Belgium     1254.4   \n",
       "21    2021-01-14    HYDROCHLORIC ACID                          UK       4.0   \n",
       "\n",
       "   Unit(Kg/L)           Permit Type        Permit Number  Amount Paid  \\\n",
       "8           L      CLEARANCE PERMIT   NCCCP0282021004/01        100.0   \n",
       "21          L  IMPORT AUTHORIZATION  IP2021-026NCC005/01         75.0   \n",
       "\n",
       "           Date Issued   \n",
       "8   2021-01-11 00:00:00  \n",
       "21  2021-01-21 00:00:00  "
      ]
     },
     "execution_count": 27,
     "metadata": {},
     "output_type": "execute_result"
    }
   ],
   "source": [
    "df_L.head(2)"
   ]
  },
  {
   "cell_type": "code",
   "execution_count": 28,
   "id": "534d9629",
   "metadata": {},
   "outputs": [
    {
     "data": {
      "text/plain": [
       "<AxesSubplot:title={'center':'Bar plot of Precursor Chemicals Imported in Litres'}, xlabel='Quantity', ylabel='Chemical Name '>"
      ]
     },
     "execution_count": 28,
     "metadata": {},
     "output_type": "execute_result"
    },
    {
     "data": {
      "image/png": "[encoded data removed]",
      "text/plain": [
       "<Figure size 1080x360 with 1 Axes>"
      ]
     },
     "metadata": {
      "needs_background": "light"
     },
     "output_type": "display_data"
    }
   ],
   "source": [
    "plt.figure(figsize=(15,5))\n",
    "plt.title('Bar plot of Precursor Chemicals Imported in Litres')\n",
    "sns.barplot(x='Quantity', y='Chemical Name ', data=df_L)"
   ]
  },
  {
   "cell_type": "code",
   "execution_count": 29,
   "id": "56767716",
   "metadata": {
    "scrolled": false
   },
   "outputs": [
    {
     "data": {
      "text/plain": [
       "<AxesSubplot:title={'center':'Histogram of Amount Paid'}, xlabel='Amount Paid', ylabel='Count'>"
      ]
     },
     "execution_count": 29,
     "metadata": {},
     "output_type": "execute_result"
    },
    {
     "data": {
      "image/png": "[encoded data removed]",
      "text/plain": [
       "<Figure size 1080x360 with 1 Axes>"
      ]
     },
     "metadata": {
      "needs_background": "light"
     },
     "output_type": "display_data"
    }
   ],
   "source": [
    "plt.figure(figsize=(15,5))\n",
    "plt.title('Histogram of Amount Paid')\n",
    "sns.histplot(data = new_df, x='Amount Paid',bins=20)"
   ]
  },
  {
   "cell_type": "code",
   "execution_count": 30,
   "id": "3b069830",
   "metadata": {},
   "outputs": [
    {
     "data": {
      "text/plain": [
       "<AxesSubplot:title={'center':'Histogram of Quantity'}, xlabel='Quantity', ylabel='Count'>"
      ]
     },
     "execution_count": 30,
     "metadata": {},
     "output_type": "execute_result"
    },
    {
     "data": {
      "image/png": "[encoded data removed]",
      "text/plain": [
       "<Figure size 1080x360 with 1 Axes>"
      ]
     },
     "metadata": {
      "needs_background": "light"
     },
     "output_type": "display_data"
    }
   ],
   "source": [
    "plt.figure(figsize=(15,5))\n",
    "plt.title('Histogram of Quantity')\n",
    "sns.histplot(data = new_df, x='Quantity',bins=20)"
   ]
  },
  {
   "cell_type": "code",
   "execution_count": 31,
   "id": "ff233c3e",
   "metadata": {},
   "outputs": [
    {
     "data": {
      "text/html": [
       "<div>\n",
       "<style scoped>\n",
       "    .dataframe tbody tr th:only-of-type {\n",
       "        vertical-align: middle;\n",
       "    }\n",
       "\n",
       "    .dataframe tbody tr th {\n",
       "        vertical-align: top;\n",
       "    }\n",
       "\n",
       "    .dataframe thead th {\n",
       "        text-align: right;\n",
       "    }\n",
       "</style>\n",
       "<table border=\"1\" class=\"dataframe\">\n",
       "  <thead>\n",
       "    <tr style=\"text-align: right;\">\n",
       "      <th></th>\n",
       "      <th>Date Prepared</th>\n",
       "      <th>Chemical Name</th>\n",
       "      <th>Exporting/Importing Country</th>\n",
       "      <th>Quantity</th>\n",
       "      <th>Unit(Kg/L)</th>\n",
       "      <th>Permit Type</th>\n",
       "      <th>Permit Number</th>\n",
       "      <th>Amount Paid</th>\n",
       "      <th>Date Issued</th>\n",
       "    </tr>\n",
       "  </thead>\n",
       "  <tbody>\n",
       "    <tr>\n",
       "      <th>0</th>\n",
       "      <td>2020-12-17</td>\n",
       "      <td>TOLUENE-DI ISOCYANATE</td>\n",
       "      <td>China</td>\n",
       "      <td>160000.0</td>\n",
       "      <td>Kg</td>\n",
       "      <td>CLEARANCE PERMIT</td>\n",
       "      <td>NCCIP043202000317/12</td>\n",
       "      <td>2000.0</td>\n",
       "      <td>2021-01-05 00:00:00</td>\n",
       "    </tr>\n",
       "    <tr>\n",
       "      <th>1</th>\n",
       "      <td>2020-12-21</td>\n",
       "      <td>METHYL ETHYL KETONE</td>\n",
       "      <td>India</td>\n",
       "      <td>1330.0</td>\n",
       "      <td>Kg</td>\n",
       "      <td>CLEARANCE PERMIT</td>\n",
       "      <td>NCCIP028202000321/12</td>\n",
       "      <td>100.0</td>\n",
       "      <td>2021-01-05 00:00:00</td>\n",
       "    </tr>\n",
       "  </tbody>\n",
       "</table>\n",
       "</div>"
      ],
      "text/plain": [
       "  Date Prepared         Chemical Name  Exporting/Importing Country  Quantity  \\\n",
       "0    2020-12-17  TOLUENE-DI ISOCYANATE                       China  160000.0   \n",
       "1    2020-12-21    METHYL ETHYL KETONE                       India    1330.0   \n",
       "\n",
       "  Unit(Kg/L)       Permit Type         Permit Number  Amount Paid  \\\n",
       "0         Kg  CLEARANCE PERMIT  NCCIP043202000317/12       2000.0   \n",
       "1         Kg  CLEARANCE PERMIT  NCCIP028202000321/12        100.0   \n",
       "\n",
       "          Date Issued   \n",
       "0  2021-01-05 00:00:00  \n",
       "1  2021-01-05 00:00:00  "
      ]
     },
     "execution_count": 31,
     "metadata": {},
     "output_type": "execute_result"
    }
   ],
   "source": [
    "new_df.head(2)"
   ]
  },
  {
   "cell_type": "code",
   "execution_count": 32,
   "id": "95c769c8",
   "metadata": {},
   "outputs": [],
   "source": [
    "new_df.drop(['Date Prepared', 'Date Issued '], axis= 1, inplace=True)"
   ]
  },
  {
   "cell_type": "code",
   "execution_count": 33,
   "id": "06abbc3f",
   "metadata": {},
   "outputs": [
    {
     "data": {
      "text/html": [
       "<div>\n",
       "<style scoped>\n",
       "    .dataframe tbody tr th:only-of-type {\n",
       "        vertical-align: middle;\n",
       "    }\n",
       "\n",
       "    .dataframe tbody tr th {\n",
       "        vertical-align: top;\n",
       "    }\n",
       "\n",
       "    .dataframe thead th {\n",
       "        text-align: right;\n",
       "    }\n",
       "</style>\n",
       "<table border=\"1\" class=\"dataframe\">\n",
       "  <thead>\n",
       "    <tr style=\"text-align: right;\">\n",
       "      <th></th>\n",
       "      <th>Chemical Name</th>\n",
       "      <th>Exporting/Importing Country</th>\n",
       "      <th>Quantity</th>\n",
       "      <th>Unit(Kg/L)</th>\n",
       "      <th>Permit Type</th>\n",
       "      <th>Permit Number</th>\n",
       "      <th>Amount Paid</th>\n",
       "    </tr>\n",
       "  </thead>\n",
       "  <tbody>\n",
       "    <tr>\n",
       "      <th>0</th>\n",
       "      <td>TOLUENE-DI ISOCYANATE</td>\n",
       "      <td>China</td>\n",
       "      <td>160000.0</td>\n",
       "      <td>Kg</td>\n",
       "      <td>CLEARANCE PERMIT</td>\n",
       "      <td>NCCIP043202000317/12</td>\n",
       "      <td>2000.0</td>\n",
       "    </tr>\n",
       "    <tr>\n",
       "      <th>1</th>\n",
       "      <td>METHYL ETHYL KETONE</td>\n",
       "      <td>India</td>\n",
       "      <td>1330.0</td>\n",
       "      <td>Kg</td>\n",
       "      <td>CLEARANCE PERMIT</td>\n",
       "      <td>NCCIP028202000321/12</td>\n",
       "      <td>100.0</td>\n",
       "    </tr>\n",
       "  </tbody>\n",
       "</table>\n",
       "</div>"
      ],
      "text/plain": [
       "          Chemical Name  Exporting/Importing Country  Quantity Unit(Kg/L)  \\\n",
       "0  TOLUENE-DI ISOCYANATE                       China  160000.0         Kg   \n",
       "1    METHYL ETHYL KETONE                       India    1330.0         Kg   \n",
       "\n",
       "        Permit Type         Permit Number  Amount Paid  \n",
       "0  CLEARANCE PERMIT  NCCIP043202000317/12       2000.0  \n",
       "1  CLEARANCE PERMIT  NCCIP028202000321/12        100.0  "
      ]
     },
     "execution_count": 33,
     "metadata": {},
     "output_type": "execute_result"
    }
   ],
   "source": [
    "new_df.head(2)"
   ]
  },
  {
   "cell_type": "code",
   "execution_count": 34,
   "id": "8bc1be8b",
   "metadata": {},
   "outputs": [],
   "source": [
    "new_df.drop(['Exporting/Importing Country','Permit Number'], axis=1, inplace=True)"
   ]
  },
  {
   "cell_type": "code",
   "execution_count": 35,
   "id": "d392d39c",
   "metadata": {},
   "outputs": [
    {
     "data": {
      "text/html": [
       "<div>\n",
       "<style scoped>\n",
       "    .dataframe tbody tr th:only-of-type {\n",
       "        vertical-align: middle;\n",
       "    }\n",
       "\n",
       "    .dataframe tbody tr th {\n",
       "        vertical-align: top;\n",
       "    }\n",
       "\n",
       "    .dataframe thead th {\n",
       "        text-align: right;\n",
       "    }\n",
       "</style>\n",
       "<table border=\"1\" class=\"dataframe\">\n",
       "  <thead>\n",
       "    <tr style=\"text-align: right;\">\n",
       "      <th></th>\n",
       "      <th>Chemical Name</th>\n",
       "      <th>Quantity</th>\n",
       "      <th>Unit(Kg/L)</th>\n",
       "      <th>Permit Type</th>\n",
       "      <th>Amount Paid</th>\n",
       "    </tr>\n",
       "  </thead>\n",
       "  <tbody>\n",
       "    <tr>\n",
       "      <th>0</th>\n",
       "      <td>TOLUENE-DI ISOCYANATE</td>\n",
       "      <td>160000.0</td>\n",
       "      <td>Kg</td>\n",
       "      <td>CLEARANCE PERMIT</td>\n",
       "      <td>2000.0</td>\n",
       "    </tr>\n",
       "    <tr>\n",
       "      <th>1</th>\n",
       "      <td>METHYL ETHYL KETONE</td>\n",
       "      <td>1330.0</td>\n",
       "      <td>Kg</td>\n",
       "      <td>CLEARANCE PERMIT</td>\n",
       "      <td>100.0</td>\n",
       "    </tr>\n",
       "  </tbody>\n",
       "</table>\n",
       "</div>"
      ],
      "text/plain": [
       "          Chemical Name   Quantity Unit(Kg/L)       Permit Type  Amount Paid\n",
       "0  TOLUENE-DI ISOCYANATE  160000.0         Kg  CLEARANCE PERMIT       2000.0\n",
       "1    METHYL ETHYL KETONE    1330.0         Kg  CLEARANCE PERMIT        100.0"
      ]
     },
     "execution_count": 35,
     "metadata": {},
     "output_type": "execute_result"
    }
   ],
   "source": [
    "new_df.head(2)"
   ]
  },
  {
   "cell_type": "code",
   "execution_count": 36,
   "id": "b9e7550e",
   "metadata": {},
   "outputs": [
    {
     "data": {
      "text/plain": [
       "Chemical Name      0\n",
       "Quantity           0\n",
       "Unit(Kg/L)         0\n",
       "Permit Type        0\n",
       "Amount Paid       19\n",
       "dtype: int64"
      ]
     },
     "execution_count": 36,
     "metadata": {},
     "output_type": "execute_result"
    }
   ],
   "source": [
    "new_df.isnull().sum()"
   ]
  },
  {
   "cell_type": "code",
   "execution_count": 37,
   "id": "236e7bfe",
   "metadata": {},
   "outputs": [],
   "source": [
    "Permit_df = new_df.dropna()"
   ]
  },
  {
   "cell_type": "code",
   "execution_count": 38,
   "id": "f80258d6",
   "metadata": {},
   "outputs": [
    {
     "data": {
      "text/plain": [
       "Chemical Name     0\n",
       "Quantity          0\n",
       "Unit(Kg/L)        0\n",
       "Permit Type       0\n",
       "Amount Paid       0\n",
       "dtype: int64"
      ]
     },
     "execution_count": 38,
     "metadata": {},
     "output_type": "execute_result"
    }
   ],
   "source": [
    "Permit_df.isnull().sum()"
   ]
  },
  {
   "cell_type": "code",
   "execution_count": 39,
   "id": "b5de3016",
   "metadata": {},
   "outputs": [
    {
     "data": {
      "text/plain": [
       "(1020, 5)"
      ]
     },
     "execution_count": 39,
     "metadata": {},
     "output_type": "execute_result"
    }
   ],
   "source": [
    "Permit_df.shape"
   ]
  },
  {
   "cell_type": "code",
   "execution_count": 40,
   "id": "8bb42dbf",
   "metadata": {},
   "outputs": [
    {
     "data": {
      "text/plain": [
       "Index(['Chemical Name ', 'Quantity', 'Unit(Kg/L)', 'Permit Type',\n",
       "       'Amount Paid'],\n",
       "      dtype='object')"
      ]
     },
     "execution_count": 40,
     "metadata": {},
     "output_type": "execute_result"
    }
   ],
   "source": [
    "Permit_df.columns"
   ]
  },
  {
   "cell_type": "code",
   "execution_count": 41,
   "id": "cef26346",
   "metadata": {},
   "outputs": [
    {
     "data": {
      "text/plain": [
       "<AxesSubplot:xlabel='Quantity', ylabel='Amount Paid'>"
      ]
     },
     "execution_count": 41,
     "metadata": {},
     "output_type": "execute_result"
    },
    {
     "data": {
      "image/png": "[encoded data removed]",
      "text/plain": [
       "<Figure size 432x288 with 1 Axes>"
      ]
     },
     "metadata": {
      "needs_background": "light"
     },
     "output_type": "display_data"
    }
   ],
   "source": [
    "sns.scatterplot(data=Permit_df, x='Quantity', y='Amount Paid')"
   ]
  },
  {
   "cell_type": "code",
   "execution_count": 42,
   "id": "d3d3672f",
   "metadata": {},
   "outputs": [
    {
     "data": {
      "text/plain": [
       "<AxesSubplot:title={'center':'Boxplot of chemical name and quantity'}, xlabel='Chemical Name ', ylabel='Quantity'>"
      ]
     },
     "execution_count": 42,
     "metadata": {},
     "output_type": "execute_result"
    },
    {
     "data": {
      "image/png": "[encoded data removed]",
      "text/plain": [
       "<Figure size 1656x360 with 1 Axes>"
      ]
     },
     "metadata": {
      "needs_background": "light"
     },
     "output_type": "display_data"
    }
   ],
   "source": [
    "plt.figure(figsize=(23,5))\n",
    "plt.title(\"Boxplot of chemical name and quantity\")\n",
    "sns.boxplot(data=Permit_df,x='Chemical Name ',y='Quantity')"
   ]
  },
  {
   "cell_type": "code",
   "execution_count": 43,
   "id": "984fc4b1",
   "metadata": {},
   "outputs": [
    {
     "data": {
      "text/plain": [
       "<AxesSubplot:title={'center':'Boxplot of chemical name and Amount paid'}, xlabel='Chemical Name ', ylabel='Amount Paid'>"
      ]
     },
     "execution_count": 43,
     "metadata": {},
     "output_type": "execute_result"
    },
    {
     "data": {
      "image/png": "[encoded data removed]",
      "text/plain": [
       "<Figure size 1656x360 with 1 Axes>"
      ]
     },
     "metadata": {
      "needs_background": "light"
     },
     "output_type": "display_data"
    }
   ],
   "source": [
    "plt.figure(figsize=(23,5))\n",
    "plt.title(\"Boxplot of chemical name and Amount paid\")\n",
    "sns.boxplot(data=Permit_df,x='Chemical Name ',y='Amount Paid')"
   ]
  },
  {
   "cell_type": "code",
   "execution_count": 44,
   "id": "75afc60a",
   "metadata": {},
   "outputs": [],
   "source": [
    "correlation = Permit_df.corr()"
   ]
  },
  {
   "cell_type": "code",
   "execution_count": 45,
   "id": "ac187f73",
   "metadata": {},
   "outputs": [
    {
     "data": {
      "text/plain": [
       "<AxesSubplot:>"
      ]
     },
     "execution_count": 45,
     "metadata": {},
     "output_type": "execute_result"
    },
    {
     "data": {
      "image/png": "[encoded data removed]",
      "text/plain": [
       "<Figure size 432x288 with 2 Axes>"
      ]
     },
     "metadata": {
      "needs_background": "light"
     },
     "output_type": "display_data"
    }
   ],
   "source": [
    "sns.heatmap(correlation, xticklabels=correlation.columns, yticklabels=correlation.columns, annot=True)"
   ]
  },
  {
   "cell_type": "code",
   "execution_count": 46,
   "id": "f7ce912a",
   "metadata": {},
   "outputs": [],
   "source": [
    "from scipy import stats"
   ]
  },
  {
   "cell_type": "code",
   "execution_count": 47,
   "id": "d5661dbf",
   "metadata": {},
   "outputs": [
    {
     "data": {
      "text/plain": [
       "(0.5444214268019738, 8.94407691392463e-80)"
      ]
     },
     "execution_count": 47,
     "metadata": {},
     "output_type": "execute_result"
    }
   ],
   "source": [
    "corr = stats.pearsonr(Permit_df.Quantity, Permit_df['Amount Paid'])\n",
    "corr"
   ]
  },
  {
   "cell_type": "code",
   "execution_count": 48,
   "id": "8d955f9f",
   "metadata": {},
   "outputs": [],
   "source": [
    "from sklearn.preprocessing import OneHotEncoder"
   ]
  },
  {
   "cell_type": "code",
   "execution_count": 49,
   "id": "c17aea01",
   "metadata": {},
   "outputs": [
    {
     "data": {
      "text/html": [
       "<div>\n",
       "<style scoped>\n",
       "    .dataframe tbody tr th:only-of-type {\n",
       "        vertical-align: middle;\n",
       "    }\n",
       "\n",
       "    .dataframe tbody tr th {\n",
       "        vertical-align: top;\n",
       "    }\n",
       "\n",
       "    .dataframe thead th {\n",
       "        text-align: right;\n",
       "    }\n",
       "</style>\n",
       "<table border=\"1\" class=\"dataframe\">\n",
       "  <thead>\n",
       "    <tr style=\"text-align: right;\">\n",
       "      <th></th>\n",
       "      <th>Quantity</th>\n",
       "      <th>Amount Paid</th>\n",
       "      <th>Chemical Name _ACETONE</th>\n",
       "      <th>Chemical Name _CHLOROFORM</th>\n",
       "      <th>Chemical Name _ETHYL ETHER</th>\n",
       "      <th>Chemical Name _HYDROCHLORIC ACID</th>\n",
       "      <th>Chemical Name _METHYL ETHYL KETONE</th>\n",
       "      <th>Chemical Name _PHENYL ACETIC ACID</th>\n",
       "      <th>Chemical Name _POTASSIUM PERMANGANATE</th>\n",
       "      <th>Chemical Name _SULPHURIC ACID</th>\n",
       "      <th>Chemical Name _TOLUENE</th>\n",
       "      <th>Chemical Name _TOLUENE-DI ISOCYANATE</th>\n",
       "      <th>Unit(Kg/L)_L</th>\n",
       "      <th>Permit Type_EXPORT PERMIT</th>\n",
       "      <th>Permit Type_IMPORT AUTHORIZATION</th>\n",
       "      <th>Permit Type_LOCAL PURCHASE AUTH.</th>\n",
       "    </tr>\n",
       "  </thead>\n",
       "  <tbody>\n",
       "    <tr>\n",
       "      <th>0</th>\n",
       "      <td>160000.0</td>\n",
       "      <td>2000.00</td>\n",
       "      <td>0</td>\n",
       "      <td>0</td>\n",
       "      <td>0</td>\n",
       "      <td>0</td>\n",
       "      <td>0</td>\n",
       "      <td>0</td>\n",
       "      <td>0</td>\n",
       "      <td>0</td>\n",
       "      <td>0</td>\n",
       "      <td>1</td>\n",
       "      <td>0</td>\n",
       "      <td>0</td>\n",
       "      <td>0</td>\n",
       "      <td>0</td>\n",
       "    </tr>\n",
       "    <tr>\n",
       "      <th>1</th>\n",
       "      <td>1330.0</td>\n",
       "      <td>100.00</td>\n",
       "      <td>0</td>\n",
       "      <td>0</td>\n",
       "      <td>0</td>\n",
       "      <td>0</td>\n",
       "      <td>1</td>\n",
       "      <td>0</td>\n",
       "      <td>0</td>\n",
       "      <td>0</td>\n",
       "      <td>0</td>\n",
       "      <td>0</td>\n",
       "      <td>0</td>\n",
       "      <td>0</td>\n",
       "      <td>0</td>\n",
       "      <td>0</td>\n",
       "    </tr>\n",
       "    <tr>\n",
       "      <th>2</th>\n",
       "      <td>45500.0</td>\n",
       "      <td>568.75</td>\n",
       "      <td>0</td>\n",
       "      <td>0</td>\n",
       "      <td>0</td>\n",
       "      <td>1</td>\n",
       "      <td>0</td>\n",
       "      <td>0</td>\n",
       "      <td>0</td>\n",
       "      <td>0</td>\n",
       "      <td>0</td>\n",
       "      <td>0</td>\n",
       "      <td>0</td>\n",
       "      <td>0</td>\n",
       "      <td>0</td>\n",
       "      <td>0</td>\n",
       "    </tr>\n",
       "    <tr>\n",
       "      <th>3</th>\n",
       "      <td>7560.0</td>\n",
       "      <td>75.00</td>\n",
       "      <td>0</td>\n",
       "      <td>0</td>\n",
       "      <td>0</td>\n",
       "      <td>0</td>\n",
       "      <td>0</td>\n",
       "      <td>0</td>\n",
       "      <td>0</td>\n",
       "      <td>0</td>\n",
       "      <td>1</td>\n",
       "      <td>0</td>\n",
       "      <td>0</td>\n",
       "      <td>0</td>\n",
       "      <td>1</td>\n",
       "      <td>0</td>\n",
       "    </tr>\n",
       "    <tr>\n",
       "      <th>4</th>\n",
       "      <td>28800.0</td>\n",
       "      <td>75.00</td>\n",
       "      <td>0</td>\n",
       "      <td>0</td>\n",
       "      <td>0</td>\n",
       "      <td>0</td>\n",
       "      <td>0</td>\n",
       "      <td>0</td>\n",
       "      <td>0</td>\n",
       "      <td>0</td>\n",
       "      <td>1</td>\n",
       "      <td>0</td>\n",
       "      <td>0</td>\n",
       "      <td>0</td>\n",
       "      <td>1</td>\n",
       "      <td>0</td>\n",
       "    </tr>\n",
       "  </tbody>\n",
       "</table>\n",
       "</div>"
      ],
      "text/plain": [
       "   Quantity  Amount Paid  Chemical Name _ACETONE  Chemical Name _CHLOROFORM  \\\n",
       "0  160000.0      2000.00                       0                          0   \n",
       "1    1330.0       100.00                       0                          0   \n",
       "2   45500.0       568.75                       0                          0   \n",
       "3    7560.0        75.00                       0                          0   \n",
       "4   28800.0        75.00                       0                          0   \n",
       "\n",
       "   Chemical Name _ETHYL ETHER  Chemical Name _HYDROCHLORIC ACID  \\\n",
       "0                           0                                 0   \n",
       "1                           0                                 0   \n",
       "2                           0                                 1   \n",
       "3                           0                                 0   \n",
       "4                           0                                 0   \n",
       "\n",
       "   Chemical Name _METHYL ETHYL KETONE  Chemical Name _PHENYL ACETIC ACID  \\\n",
       "0                                   0                                  0   \n",
       "1                                   1                                  0   \n",
       "2                                   0                                  0   \n",
       "3                                   0                                  0   \n",
       "4                                   0                                  0   \n",
       "\n",
       "   Chemical Name _POTASSIUM PERMANGANATE  Chemical Name _SULPHURIC ACID  \\\n",
       "0                                      0                              0   \n",
       "1                                      0                              0   \n",
       "2                                      0                              0   \n",
       "3                                      0                              0   \n",
       "4                                      0                              0   \n",
       "\n",
       "   Chemical Name _TOLUENE  Chemical Name _TOLUENE-DI ISOCYANATE  Unit(Kg/L)_L  \\\n",
       "0                       0                                     1             0   \n",
       "1                       0                                     0             0   \n",
       "2                       0                                     0             0   \n",
       "3                       1                                     0             0   \n",
       "4                       1                                     0             0   \n",
       "\n",
       "   Permit Type_EXPORT PERMIT  Permit Type_IMPORT AUTHORIZATION  \\\n",
       "0                          0                                 0   \n",
       "1                          0                                 0   \n",
       "2                          0                                 0   \n",
       "3                          0                                 1   \n",
       "4                          0                                 1   \n",
       "\n",
       "   Permit Type_LOCAL PURCHASE AUTH.  \n",
       "0                                 0  \n",
       "1                                 0  \n",
       "2                                 0  \n",
       "3                                 0  \n",
       "4                                 0  "
      ]
     },
     "execution_count": 49,
     "metadata": {},
     "output_type": "execute_result"
    }
   ],
   "source": [
    "new_permit_df = pd.get_dummies(Permit_df, drop_first=True)\n",
    "new_permit_df.head(5)"
   ]
  },
  {
   "cell_type": "code",
   "execution_count": 50,
   "id": "8256d248",
   "metadata": {},
   "outputs": [],
   "source": [
    "Permit_df = new_permit_df.copy()"
   ]
  },
  {
   "cell_type": "markdown",
   "id": "d5c8ae7b",
   "metadata": {},
   "source": [
    "# The new data frame will be used for the Linear regression model"
   ]
  },
  {
   "cell_type": "code",
   "execution_count": 51,
   "id": "0958fc06",
   "metadata": {},
   "outputs": [],
   "source": [
    "X = Permit_df.drop('Amount Paid', axis=1)\n",
    "y = Permit_df['Amount Paid']"
   ]
  },
  {
   "cell_type": "code",
   "execution_count": 52,
   "id": "717ba50e",
   "metadata": {},
   "outputs": [
    {
     "data": {
      "text/plain": [
       "((1020, 15), (1020,))"
      ]
     },
     "execution_count": 52,
     "metadata": {},
     "output_type": "execute_result"
    }
   ],
   "source": [
    "X.shape, y.shape"
   ]
  },
  {
   "cell_type": "code",
   "execution_count": 53,
   "id": "b2b77210",
   "metadata": {},
   "outputs": [],
   "source": [
    "from sklearn.model_selection import train_test_split"
   ]
  },
  {
   "cell_type": "code",
   "execution_count": 54,
   "id": "4ac3c068",
   "metadata": {},
   "outputs": [],
   "source": [
    "X_train, X_test,y_train, y_test = train_test_split(X,y,test_size=0.2,random_state = 0)"
   ]
  },
  {
   "cell_type": "code",
   "execution_count": 55,
   "id": "a9b1afa4",
   "metadata": {},
   "outputs": [],
   "source": [
    "from sklearn.linear_model import LinearRegression"
   ]
  },
  {
   "cell_type": "code",
   "execution_count": 56,
   "id": "663fea6c",
   "metadata": {},
   "outputs": [],
   "source": [
    "linreg = LinearRegression()\n",
    "linreg.fit(X_train, y_train)\n",
    "linreg_pred = linreg.predict(X_test)"
   ]
  },
  {
   "cell_type": "code",
   "execution_count": 57,
   "id": "c9eee2af",
   "metadata": {},
   "outputs": [],
   "source": [
    "from sklearn.metrics import mean_absolute_error, r2_score, mean_squared_error"
   ]
  },
  {
   "cell_type": "code",
   "execution_count": 58,
   "id": "8a4abcb6",
   "metadata": {},
   "outputs": [
    {
     "name": "stdout",
     "output_type": "stream",
     "text": [
      "MAE  of Linear regression model is:  281.6437551175829\n",
      "R2  of Linear regression model is:  0.4493721033519994\n",
      "RMSE  of Linear regression model is:  272047.5060325386\n"
     ]
    }
   ],
   "source": [
    "linreg_mae = mean_absolute_error(y_test, linreg_pred)\n",
    "linreg_r2 = r2_score(y_test, linreg_pred)\n",
    "lingreg_rmse = mean_squared_error(y_test, linreg_pred)\n",
    "print(\"MAE  of Linear regression model is: \", linreg_mae)\n",
    "print(\"R2  of Linear regression model is: \", linreg_r2)\n",
    "print(\"RMSE  of Linear regression model is: \", lingreg_rmse)"
   ]
  },
  {
   "cell_type": "code",
   "execution_count": 60,
   "id": "f9998224",
   "metadata": {},
   "outputs": [
    {
     "data": {
      "text/plain": [
       "(1020, 16)"
      ]
     },
     "execution_count": 60,
     "metadata": {},
     "output_type": "execute_result"
    }
   ],
   "source": [
    "new_permit_df.shape"
   ]
  },
  {
   "cell_type": "code",
   "execution_count": 61,
   "id": "0f29751b",
   "metadata": {},
   "outputs": [
    {
     "data": {
      "image/png": "[encoded data removed]",
      "text/plain": [
       "<Figure size 360x360 with 1 Axes>"
      ]
     },
     "metadata": {
      "needs_background": "light"
     },
     "output_type": "display_data"
    },
    {
     "data": {
      "text/plain": [
       "<Figure size 432x288 with 0 Axes>"
      ]
     },
     "metadata": {},
     "output_type": "display_data"
    }
   ],
   "source": [
    "new_permit_df['Quantity'] = np.log(new_permit_df['Quantity'])\n",
    "sns.displot(new_permit_df['Quantity'])\n",
    "fig = plt.figure()"
   ]
  },
  {
   "cell_type": "code",
   "execution_count": 62,
   "id": "b0ac36f7",
   "metadata": {},
   "outputs": [
    {
     "data": {
      "image/png": "[encoded data removed]",
      "text/plain": [
       "<Figure size 360x360 with 1 Axes>"
      ]
     },
     "metadata": {
      "needs_background": "light"
     },
     "output_type": "display_data"
    },
    {
     "data": {
      "text/plain": [
       "<Figure size 432x288 with 0 Axes>"
      ]
     },
     "metadata": {},
     "output_type": "display_data"
    }
   ],
   "source": [
    "new_permit_df['Amount Paid'] = np.log(new_permit_df['Amount Paid'])\n",
    "sns.displot(new_permit_df['Amount Paid'])\n",
    "fig = plt.figure()"
   ]
  },
  {
   "cell_type": "code",
   "execution_count": 66,
   "id": "db8f2eb6",
   "metadata": {},
   "outputs": [
    {
     "data": {
      "text/html": [
       "<div>\n",
       "<style scoped>\n",
       "    .dataframe tbody tr th:only-of-type {\n",
       "        vertical-align: middle;\n",
       "    }\n",
       "\n",
       "    .dataframe tbody tr th {\n",
       "        vertical-align: top;\n",
       "    }\n",
       "\n",
       "    .dataframe thead th {\n",
       "        text-align: right;\n",
       "    }\n",
       "</style>\n",
       "<table border=\"1\" class=\"dataframe\">\n",
       "  <thead>\n",
       "    <tr style=\"text-align: right;\">\n",
       "      <th></th>\n",
       "      <th>Quantity</th>\n",
       "      <th>Amount Paid</th>\n",
       "      <th>Chemical Name _ACETONE</th>\n",
       "      <th>Chemical Name _CHLOROFORM</th>\n",
       "      <th>Chemical Name _ETHYL ETHER</th>\n",
       "      <th>Chemical Name _HYDROCHLORIC ACID</th>\n",
       "      <th>Chemical Name _METHYL ETHYL KETONE</th>\n",
       "      <th>Chemical Name _PHENYL ACETIC ACID</th>\n",
       "      <th>Chemical Name _POTASSIUM PERMANGANATE</th>\n",
       "      <th>Chemical Name _SULPHURIC ACID</th>\n",
       "      <th>Chemical Name _TOLUENE</th>\n",
       "      <th>Chemical Name _TOLUENE-DI ISOCYANATE</th>\n",
       "      <th>Unit(Kg/L)_L</th>\n",
       "      <th>Permit Type_EXPORT PERMIT</th>\n",
       "      <th>Permit Type_IMPORT AUTHORIZATION</th>\n",
       "      <th>Permit Type_LOCAL PURCHASE AUTH.</th>\n",
       "    </tr>\n",
       "  </thead>\n",
       "  <tbody>\n",
       "    <tr>\n",
       "      <th>0</th>\n",
       "      <td>11.982929</td>\n",
       "      <td>7.600902</td>\n",
       "      <td>0</td>\n",
       "      <td>0</td>\n",
       "      <td>0</td>\n",
       "      <td>0</td>\n",
       "      <td>0</td>\n",
       "      <td>0</td>\n",
       "      <td>0</td>\n",
       "      <td>0</td>\n",
       "      <td>0</td>\n",
       "      <td>1</td>\n",
       "      <td>0</td>\n",
       "      <td>0</td>\n",
       "      <td>0</td>\n",
       "      <td>0</td>\n",
       "    </tr>\n",
       "    <tr>\n",
       "      <th>1</th>\n",
       "      <td>7.192934</td>\n",
       "      <td>4.605170</td>\n",
       "      <td>0</td>\n",
       "      <td>0</td>\n",
       "      <td>0</td>\n",
       "      <td>0</td>\n",
       "      <td>1</td>\n",
       "      <td>0</td>\n",
       "      <td>0</td>\n",
       "      <td>0</td>\n",
       "      <td>0</td>\n",
       "      <td>0</td>\n",
       "      <td>0</td>\n",
       "      <td>0</td>\n",
       "      <td>0</td>\n",
       "      <td>0</td>\n",
       "    </tr>\n",
       "    <tr>\n",
       "      <th>2</th>\n",
       "      <td>10.725468</td>\n",
       "      <td>6.343441</td>\n",
       "      <td>0</td>\n",
       "      <td>0</td>\n",
       "      <td>0</td>\n",
       "      <td>1</td>\n",
       "      <td>0</td>\n",
       "      <td>0</td>\n",
       "      <td>0</td>\n",
       "      <td>0</td>\n",
       "      <td>0</td>\n",
       "      <td>0</td>\n",
       "      <td>0</td>\n",
       "      <td>0</td>\n",
       "      <td>0</td>\n",
       "      <td>0</td>\n",
       "    </tr>\n",
       "    <tr>\n",
       "      <th>3</th>\n",
       "      <td>8.930626</td>\n",
       "      <td>4.317488</td>\n",
       "      <td>0</td>\n",
       "      <td>0</td>\n",
       "      <td>0</td>\n",
       "      <td>0</td>\n",
       "      <td>0</td>\n",
       "      <td>0</td>\n",
       "      <td>0</td>\n",
       "      <td>0</td>\n",
       "      <td>1</td>\n",
       "      <td>0</td>\n",
       "      <td>0</td>\n",
       "      <td>0</td>\n",
       "      <td>1</td>\n",
       "      <td>0</td>\n",
       "    </tr>\n",
       "    <tr>\n",
       "      <th>4</th>\n",
       "      <td>10.268131</td>\n",
       "      <td>4.317488</td>\n",
       "      <td>0</td>\n",
       "      <td>0</td>\n",
       "      <td>0</td>\n",
       "      <td>0</td>\n",
       "      <td>0</td>\n",
       "      <td>0</td>\n",
       "      <td>0</td>\n",
       "      <td>0</td>\n",
       "      <td>1</td>\n",
       "      <td>0</td>\n",
       "      <td>0</td>\n",
       "      <td>0</td>\n",
       "      <td>1</td>\n",
       "      <td>0</td>\n",
       "    </tr>\n",
       "  </tbody>\n",
       "</table>\n",
       "</div>"
      ],
      "text/plain": [
       "    Quantity  Amount Paid  Chemical Name _ACETONE  Chemical Name _CHLOROFORM  \\\n",
       "0  11.982929     7.600902                       0                          0   \n",
       "1   7.192934     4.605170                       0                          0   \n",
       "2  10.725468     6.343441                       0                          0   \n",
       "3   8.930626     4.317488                       0                          0   \n",
       "4  10.268131     4.317488                       0                          0   \n",
       "\n",
       "   Chemical Name _ETHYL ETHER  Chemical Name _HYDROCHLORIC ACID  \\\n",
       "0                           0                                 0   \n",
       "1                           0                                 0   \n",
       "2                           0                                 1   \n",
       "3                           0                                 0   \n",
       "4                           0                                 0   \n",
       "\n",
       "   Chemical Name _METHYL ETHYL KETONE  Chemical Name _PHENYL ACETIC ACID  \\\n",
       "0                                   0                                  0   \n",
       "1                                   1                                  0   \n",
       "2                                   0                                  0   \n",
       "3                                   0                                  0   \n",
       "4                                   0                                  0   \n",
       "\n",
       "   Chemical Name _POTASSIUM PERMANGANATE  Chemical Name _SULPHURIC ACID  \\\n",
       "0                                      0                              0   \n",
       "1                                      0                              0   \n",
       "2                                      0                              0   \n",
       "3                                      0                              0   \n",
       "4                                      0                              0   \n",
       "\n",
       "   Chemical Name _TOLUENE  Chemical Name _TOLUENE-DI ISOCYANATE  Unit(Kg/L)_L  \\\n",
       "0                       0                                     1             0   \n",
       "1                       0                                     0             0   \n",
       "2                       0                                     0             0   \n",
       "3                       1                                     0             0   \n",
       "4                       1                                     0             0   \n",
       "\n",
       "   Permit Type_EXPORT PERMIT  Permit Type_IMPORT AUTHORIZATION  \\\n",
       "0                          0                                 0   \n",
       "1                          0                                 0   \n",
       "2                          0                                 0   \n",
       "3                          0                                 1   \n",
       "4                          0                                 1   \n",
       "\n",
       "   Permit Type_LOCAL PURCHASE AUTH.  \n",
       "0                                 0  \n",
       "1                                 0  \n",
       "2                                 0  \n",
       "3                                 0  \n",
       "4                                 0  "
      ]
     },
     "execution_count": 66,
     "metadata": {},
     "output_type": "execute_result"
    }
   ],
   "source": [
    "new_permit_df.head(5)"
   ]
  },
  {
   "cell_type": "code",
   "execution_count": 64,
   "id": "9781c8b1",
   "metadata": {},
   "outputs": [],
   "source": [
    "X = new_permit_df.drop(['Amount Paid'], axis = 1)\n",
    "y = new_permit_df['Amount Paid']"
   ]
  },
  {
   "cell_type": "code",
   "execution_count": 65,
   "id": "d048bf0a",
   "metadata": {},
   "outputs": [
    {
     "name": "stdout",
     "output_type": "stream",
     "text": [
      "shape of x is : (1020, 15)\n",
      "shape of y is : (1020,)\n"
     ]
    }
   ],
   "source": [
    "print(\"shape of x is :\", X.shape)\n",
    "print(\"shape of y is :\", y.shape)"
   ]
  },
  {
   "cell_type": "code",
   "execution_count": 66,
   "id": "0c852d8d",
   "metadata": {},
   "outputs": [],
   "source": [
    "X_train, X_test, y_train, y_test = train_test_split(X, y, test_size= 0.2, random_state= 9) "
   ]
  },
  {
   "cell_type": "markdown",
   "id": "008eb449",
   "metadata": {},
   "source": [
    "# Linear regression model with transformed data"
   ]
  },
  {
   "cell_type": "code",
   "execution_count": 67,
   "id": "329507b8",
   "metadata": {},
   "outputs": [],
   "source": [
    "linreg2 = LinearRegression()\n",
    "linreg2.fit(X_train, y_train)\n",
    "linreg2_pred = linreg2.predict(X_test)"
   ]
  },
  {
   "cell_type": "code",
   "execution_count": 69,
   "id": "6bc4415c",
   "metadata": {},
   "outputs": [
    {
     "name": "stdout",
     "output_type": "stream",
     "text": [
      "MAE  of Linear regression model is:  0.4748458227673405\n",
      "R2  of Linear regression model is:  0.7880353821192206\n",
      "RMSE  of Linear regression model is:  0.3768217783625418\n"
     ]
    }
   ],
   "source": [
    "linreg2_mae = mean_absolute_error(y_test, linreg2_pred)\n",
    "linreg2_r2 = r2_score(y_test, linreg2_pred)\n",
    "linreg2_rmse = mean_squared_error(y_test, linreg2_pred)\n",
    "print(\"MAE  of Linear regression model is: \", linreg2_mae)\n",
    "print(\"R2  of Linear regression model is: \", linreg2_r2)\n",
    "print(\"RMSE  of Linear regression model is: \", linreg2_rmse)"
   ]
  },
  {
   "cell_type": "code",
   "execution_count": 70,
   "id": "216f006e",
   "metadata": {},
   "outputs": [],
   "source": [
    "from sklearn.model_selection import cross_val_score"
   ]
  },
  {
   "cell_type": "code",
   "execution_count": 71,
   "id": "2373be13",
   "metadata": {},
   "outputs": [
    {
     "name": "stdout",
     "output_type": "stream",
     "text": [
      "linear regression accuracy is: 72.95439032753124\n"
     ]
    }
   ],
   "source": [
    "ml_score = cross_val_score(linreg2, X_test, y_test, cv=5)\n",
    "print(\"linear regression accuracy is: {}\".format(ml_score.mean()*100))"
   ]
  },
  {
   "cell_type": "code",
   "execution_count": 72,
   "id": "db8c8966",
   "metadata": {},
   "outputs": [],
   "source": [
    "residuals = y_test - linreg2_pred"
   ]
  },
  {
   "cell_type": "code",
   "execution_count": 73,
   "id": "720172f1",
   "metadata": {},
   "outputs": [
    {
     "name": "stderr",
     "output_type": "stream",
     "text": [
      "C:\\Users\\Kwame\\anaconda3\\lib\\site-packages\\seaborn\\distributions.py:2557: FutureWarning: `distplot` is a deprecated function and will be removed in a future version. Please adapt your code to use either `displot` (a figure-level function with similar flexibility) or `histplot` (an axes-level function for histograms).\n",
      "  warnings.warn(msg, FutureWarning)\n"
     ]
    },
    {
     "data": {
      "text/plain": [
       "<AxesSubplot:xlabel='Amount Paid', ylabel='Density'>"
      ]
     },
     "execution_count": 73,
     "metadata": {},
     "output_type": "execute_result"
    },
    {
     "data": {
      "image/png": "[encoded data removed]",
      "text/plain": [
       "<Figure size 432x288 with 1 Axes>"
      ]
     },
     "metadata": {
      "needs_background": "light"
     },
     "output_type": "display_data"
    }
   ],
   "source": [
    "sns.distplot(residuals)"
   ]
  },
  {
   "cell_type": "code",
   "execution_count": 74,
   "id": "57a8be2f",
   "metadata": {},
   "outputs": [
    {
     "data": {
      "text/plain": [
       "-0.0821032022082925"
      ]
     },
     "execution_count": 74,
     "metadata": {},
     "output_type": "execute_result"
    }
   ],
   "source": [
    "np.mean(residuals)"
   ]
  },
  {
   "cell_type": "code",
   "execution_count": 75,
   "id": "dbb0de00",
   "metadata": {},
   "outputs": [],
   "source": [
    "import statsmodels.api as sm\n",
    "import scipy.stats as st"
   ]
  },
  {
   "cell_type": "code",
   "execution_count": 76,
   "id": "c36ad839",
   "metadata": {},
   "outputs": [
    {
     "data": {
      "image/png": "[encoded data removed]",
      "text/plain": [
       "<Figure size 432x288 with 1 Axes>"
      ]
     },
     "metadata": {
      "needs_background": "light"
     },
     "output_type": "display_data"
    }
   ],
   "source": [
    "fig = sm.qqplot(data=residuals,line='q', dist=st.norm)\n",
    "plt.title('Normal Q-Q Plot')\n",
    "plt.show()"
   ]
  },
  {
   "cell_type": "code",
   "execution_count": null,
   "id": "98f706a0",
   "metadata": {},
   "outputs": [],
   "source": []
  },
  {
   "cell_type": "markdown",
   "id": "6a8c7716",
   "metadata": {},
   "source": [
    "# Decision Tree Model "
   ]
  },
  {
   "cell_type": "code",
   "execution_count": 77,
   "id": "bb0d19fd",
   "metadata": {},
   "outputs": [],
   "source": [
    "from sklearn.tree import DecisionTreeRegressor"
   ]
  },
  {
   "cell_type": "code",
   "execution_count": 78,
   "id": "f64a00a4",
   "metadata": {},
   "outputs": [],
   "source": [
    "dtree = DecisionTreeRegressor(max_depth=3)\n",
    "dtree.fit(X_train, y_train)\n",
    "dtree_pred = dtree.predict(X_test)"
   ]
  },
  {
   "cell_type": "code",
   "execution_count": 80,
   "id": "c3a8b54b",
   "metadata": {},
   "outputs": [
    {
     "name": "stdout",
     "output_type": "stream",
     "text": [
      "MAE  of decision tree model is:  0.273538689336048\n",
      "R2  of decision tree model is:  0.9045559838632393\n",
      "RMSE  of decision tree model is:  0.1696763556781265\n"
     ]
    }
   ],
   "source": [
    "dtree_mae = mean_absolute_error(y_test, dtree_pred)\n",
    "dtree_r2 = r2_score(y_test, dtree_pred)\n",
    "dtree_rmse = mean_squared_error(y_test, dtree_pred)\n",
    "print(\"MAE  of decision tree model is: \", dtree_mae)\n",
    "print(\"R2  of decision tree model is: \", dtree_r2)\n",
    "print(\"RMSE  of decision tree model is: \", dtree_rmse)"
   ]
  },
  {
   "cell_type": "code",
   "execution_count": 81,
   "id": "6898b625",
   "metadata": {},
   "outputs": [],
   "source": [
    "from sklearn.model_selection import cross_val_score"
   ]
  },
  {
   "cell_type": "code",
   "execution_count": 82,
   "id": "d6bb96c5",
   "metadata": {},
   "outputs": [
    {
     "name": "stdout",
     "output_type": "stream",
     "text": [
      "Decision tree accuracy is: 87.03499549527571\n"
     ]
    }
   ],
   "source": [
    "dtree_score = cross_val_score(dtree, X_test, y_test, cv=5)\n",
    "print(\"Decision tree accuracy is: {}\".format(dtree_score.mean()*100))"
   ]
  },
  {
   "cell_type": "markdown",
   "id": "6a4cb741",
   "metadata": {},
   "source": [
    "# Hyperparameter tuning of Decision Tree"
   ]
  },
  {
   "cell_type": "code",
   "execution_count": 83,
   "id": "b7ed1026",
   "metadata": {},
   "outputs": [
    {
     "data": {
      "image/png": "[encoded data removed]",
      "text/plain": [
       "<Figure size 720x432 with 1 Axes>"
      ]
     },
     "metadata": {
      "needs_background": "light"
     },
     "output_type": "display_data"
    }
   ],
   "source": [
    "depths = []\n",
    "scores = []\n",
    "\n",
    "# Build a regressor\n",
    "for k in range(1, 40, 1):\n",
    "    depths.append(k)\n",
    "    dtree = DecisionTreeRegressor(max_depth=k, random_state=0)\n",
    "    dtree.fit(X_train, y_train)\n",
    "    score_new = dtree.score(X_test, y_test)\n",
    "    scores.append(score_new)\n",
    "\n",
    "# plot accuracy versus k\n",
    "plt.figure(figsize=(10, 6))\n",
    "plt.plot(depths, scores)\n",
    "plt.xlabel('Depth Size')\n",
    "plt.ylabel('Accuracy')\n",
    "plt.title('Plot of depth size and Accuracy')\n",
    "plt.show()"
   ]
  },
  {
   "cell_type": "code",
   "execution_count": 84,
   "id": "5e7442ac",
   "metadata": {},
   "outputs": [],
   "source": [
    "dtree2 = DecisionTreeRegressor(max_depth=5)\n",
    "dtree2.fit(X_train, y_train)\n",
    "dtree2_pred = dtree2.predict(X_test)"
   ]
  },
  {
   "cell_type": "code",
   "execution_count": 86,
   "id": "e7808517",
   "metadata": {},
   "outputs": [
    {
     "name": "stdout",
     "output_type": "stream",
     "text": [
      "MAE  of decision tree model is:  0.08354758243454737\n",
      "R2  of decision tree model is:  0.9842010875225952\n",
      "RMSE  of decision tree model is:  0.02808664179640742\n"
     ]
    }
   ],
   "source": [
    "dtree2_mae = mean_absolute_error(y_test, dtree2_pred)\n",
    "dtree2_r2 = r2_score(y_test, dtree2_pred)\n",
    "dtree2_rmse = mean_squared_error(y_test, dtree2_pred)\n",
    "print(\"MAE  of decision tree model is: \", dtree2_mae)\n",
    "print(\"R2  of decision tree model is: \", dtree2_r2)\n",
    "print(\"RMSE  of decision tree model is: \", dtree2_rmse)"
   ]
  },
  {
   "cell_type": "markdown",
   "id": "cfdf968f",
   "metadata": {},
   "source": [
    "# Random Forest Model "
   ]
  },
  {
   "cell_type": "code",
   "execution_count": 87,
   "id": "5304fece",
   "metadata": {},
   "outputs": [],
   "source": [
    "from sklearn.ensemble import RandomForestRegressor"
   ]
  },
  {
   "cell_type": "code",
   "execution_count": 88,
   "id": "455ca8c5",
   "metadata": {},
   "outputs": [],
   "source": [
    "random_forest = RandomForestRegressor(n_estimators = 10, random_state = 0)\n",
    "random_forest.fit(X_train, y_train)\n",
    "random_forest = random_forest.predict(X_test)"
   ]
  },
  {
   "cell_type": "code",
   "execution_count": 90,
   "id": "6df410ac",
   "metadata": {},
   "outputs": [
    {
     "name": "stdout",
     "output_type": "stream",
     "text": [
      "MAE  of random forest model is:  0.04133039123310017\n",
      "R2  of random forest model is:  0.9861943262689726\n",
      "RMSE  of random forest model is:  0.024543145827030523\n"
     ]
    }
   ],
   "source": [
    "random_forest_mae = mean_absolute_error(y_test, random_forest)\n",
    "random_forest_r2 = r2_score(y_test, random_forest)\n",
    "random_forest_rmse = mean_squared_error(y_test, random_forest)\n",
    "print(\"MAE  of random forest model is: \", random_forest_mae)\n",
    "print(\"R2  of random forest model is: \", random_forest_r2)\n",
    "print(\"RMSE  of random forest model is: \", random_forest_rmse)"
   ]
  },
  {
   "cell_type": "code",
   "execution_count": 91,
   "id": "584fa354",
   "metadata": {},
   "outputs": [
    {
     "data": {
      "image/png": "[encoded data removed]",
      "text/plain": [
       "<Figure size 720x432 with 1 Axes>"
      ]
     },
     "metadata": {
      "needs_background": "light"
     },
     "output_type": "display_data"
    }
   ],
   "source": [
    "estimators = []\n",
    "scores = []\n",
    "\n",
    "# Build Regressor\n",
    "for k in range(10, 200, 10):\n",
    "    estimators.append(k)\n",
    "    RF_regressor = RandomForestRegressor(n_estimators=k, random_state=0)\n",
    "    RF_regressor.fit(X_train, y_train)\n",
    "    score_new = RF_regressor.score(X_test, y_test)\n",
    "    scores.append(score_new)\n",
    "\n",
    "# plot accuracy versus k\n",
    "plt.figure(figsize=(10, 6))\n",
    "plt.plot(estimators, scores)\n",
    "plt.xlabel('No. of Estimators')\n",
    "plt.ylabel('Accuracy')\n",
    "plt.title('Plot of No. of Estimators and Accuracy')\n",
    "plt.show()"
   ]
  },
  {
   "cell_type": "code",
   "execution_count": 92,
   "id": "9b850791",
   "metadata": {},
   "outputs": [],
   "source": [
    "random_forest2 = RandomForestRegressor(n_estimators = 150, random_state = 0)\n",
    "random_forest2.fit(X_train, y_train)\n",
    "random_forest2 = random_forest2.predict(X_test)"
   ]
  },
  {
   "cell_type": "code",
   "execution_count": 93,
   "id": "3b126bdd",
   "metadata": {},
   "outputs": [
    {
     "name": "stdout",
     "output_type": "stream",
     "text": [
      "MAE  of random forest model is:  0.03944806053825503\n",
      "R2  of random forest model is:  0.9877077145636519\n",
      "RMSE  of random forest model is:  0.021852707798949482\n"
     ]
    }
   ],
   "source": [
    "random_forest2_mae = mean_absolute_error(y_test, random_forest2)\n",
    "random_forest2_r2 = r2_score(y_test, random_forest2)\n",
    "random_forest2_rmse = mean_squared_error(y_test, random_forest2)\n",
    "print(\"MAE  of random forest model is: \", random_forest2_mae)\n",
    "print(\"R2  of random forest model is: \", random_forest2_r2)\n",
    "print(\"RMSE  of random forest model is: \", random_forest2_rmse)"
   ]
  },
  {
   "cell_type": "markdown",
   "id": "f5cb3802",
   "metadata": {},
   "source": [
    "# CROSS VALIDATION TO BE SORTED"
   ]
  },
  {
   "cell_type": "code",
   "execution_count": null,
   "id": "a793a2b2",
   "metadata": {},
   "outputs": [],
   "source": [
    "random_forest2_score = cross_val_score(random_forest2, X_test, y_test, cv=5)\n",
    "print(\"cross validation score for random forest accuracy is: {}\".format(random_forest2_score.mean()*100))"
   ]
  },
  {
   "cell_type": "markdown",
   "id": "0ee4e8b5",
   "metadata": {},
   "source": [
    "# Gradient Boost Model"
   ]
  },
  {
   "cell_type": "code",
   "execution_count": 95,
   "id": "de61bd66",
   "metadata": {},
   "outputs": [],
   "source": [
    "from sklearn.ensemble import GradientBoostingRegressor"
   ]
  },
  {
   "cell_type": "code",
   "execution_count": 96,
   "id": "f20ee065",
   "metadata": {},
   "outputs": [],
   "source": [
    "GB_reg = GradientBoostingRegressor(max_depth=2,n_estimators=3,learning_rate=1.0)"
   ]
  },
  {
   "cell_type": "code",
   "execution_count": 97,
   "id": "663b9a67",
   "metadata": {},
   "outputs": [
    {
     "data": {
      "text/html": [
       "<style>#sk-container-id-1 {color: black;background-color: white;}#sk-container-id-1 pre{padding: 0;}#sk-container-id-1 div.sk-toggleable {background-color: white;}#sk-container-id-1 label.sk-toggleable__label {cursor: pointer;display: block;width: 100%;margin-bottom: 0;padding: 0.3em;box-sizing: border-box;text-align: center;}#sk-container-id-1 label.sk-toggleable__label-arrow:before {content: \"▸\";float: left;margin-right: 0.25em;color: #696969;}#sk-container-id-1 label.sk-toggleable__label-arrow:hover:before {color: black;}#sk-container-id-1 div.sk-estimator:hover label.sk-toggleable__label-arrow:before {color: black;}#sk-container-id-1 div.sk-toggleable__content {max-height: 0;max-width: 0;overflow: hidden;text-align: left;background-color: #f0f8ff;}#sk-container-id-1 div.sk-toggleable__content pre {margin: 0.2em;color: black;border-radius: 0.25em;background-color: #f0f8ff;}#sk-container-id-1 input.sk-toggleable__control:checked~div.sk-toggleable__content {max-height: 200px;max-width: 100%;overflow: auto;}#sk-container-id-1 input.sk-toggleable__control:checked~label.sk-toggleable__label-arrow:before {content: \"▾\";}#sk-container-id-1 div.sk-estimator input.sk-toggleable__control:checked~label.sk-toggleable__label {background-color: #d4ebff;}#sk-container-id-1 div.sk-label input.sk-toggleable__control:checked~label.sk-toggleable__label {background-color: #d4ebff;}#sk-container-id-1 input.sk-hidden--visually {border: 0;clip: rect(1px 1px 1px 1px);clip: rect(1px, 1px, 1px, 1px);height: 1px;margin: -1px;overflow: hidden;padding: 0;position: absolute;width: 1px;}#sk-container-id-1 div.sk-estimator {font-family: monospace;background-color: #f0f8ff;border: 1px dotted black;border-radius: 0.25em;box-sizing: border-box;margin-bottom: 0.5em;}#sk-container-id-1 div.sk-estimator:hover {background-color: #d4ebff;}#sk-container-id-1 div.sk-parallel-item::after {content: \"\";width: 100%;border-bottom: 1px solid gray;flex-grow: 1;}#sk-container-id-1 div.sk-label:hover label.sk-toggleable__label {background-color: #d4ebff;}#sk-container-id-1 div.sk-serial::before {content: \"\";position: absolute;border-left: 1px solid gray;box-sizing: border-box;top: 0;bottom: 0;left: 50%;z-index: 0;}#sk-container-id-1 div.sk-serial {display: flex;flex-direction: column;align-items: center;background-color: white;padding-right: 0.2em;padding-left: 0.2em;position: relative;}#sk-container-id-1 div.sk-item {position: relative;z-index: 1;}#sk-container-id-1 div.sk-parallel {display: flex;align-items: stretch;justify-content: center;background-color: white;position: relative;}#sk-container-id-1 div.sk-item::before, #sk-container-id-1 div.sk-parallel-item::before {content: \"\";position: absolute;border-left: 1px solid gray;box-sizing: border-box;top: 0;bottom: 0;left: 50%;z-index: -1;}#sk-container-id-1 div.sk-parallel-item {display: flex;flex-direction: column;z-index: 1;position: relative;background-color: white;}#sk-container-id-1 div.sk-parallel-item:first-child::after {align-self: flex-end;width: 50%;}#sk-container-id-1 div.sk-parallel-item:last-child::after {align-self: flex-start;width: 50%;}#sk-container-id-1 div.sk-parallel-item:only-child::after {width: 0;}#sk-container-id-1 div.sk-dashed-wrapped {border: 1px dashed gray;margin: 0 0.4em 0.5em 0.4em;box-sizing: border-box;padding-bottom: 0.4em;background-color: white;}#sk-container-id-1 div.sk-label label {font-family: monospace;font-weight: bold;display: inline-block;line-height: 1.2em;}#sk-container-id-1 div.sk-label-container {text-align: center;}#sk-container-id-1 div.sk-container {/* jupyter's `normalize.less` sets `[hidden] { display: none; }` but bootstrap.min.css set `[hidden] { display: none !important; }` so we also need the `!important` here to be able to override the default hidden behavior on the sphinx rendered scikit-learn.org. See: https://github.com/scikit-learn/scikit-learn/issues/21755 */display: inline-block !important;position: relative;}#sk-container-id-1 div.sk-text-repr-fallback {display: none;}</style><div id=\"sk-container-id-1\" class=\"sk-top-container\"><div class=\"sk-text-repr-fallback\"><pre>GradientBoostingRegressor(learning_rate=1.0, max_depth=2, n_estimators=3)</pre><b>In a Jupyter environment, please rerun this cell to show the HTML representation or trust the notebook. <br />On GitHub, the HTML representation is unable to render, please try loading this page with nbviewer.org.</b></div><div class=\"sk-container\" hidden><div class=\"sk-item\"><div class=\"sk-estimator sk-toggleable\"><input class=\"sk-toggleable__control sk-hidden--visually\" id=\"sk-estimator-id-1\" type=\"checkbox\" checked><label for=\"sk-estimator-id-1\" class=\"sk-toggleable__label sk-toggleable__label-arrow\">GradientBoostingRegressor</label><div class=\"sk-toggleable__content\"><pre>GradientBoostingRegressor(learning_rate=1.0, max_depth=2, n_estimators=3)</pre></div></div></div></div></div>"
      ],
      "text/plain": [
       "GradientBoostingRegressor(learning_rate=1.0, max_depth=2, n_estimators=3)"
      ]
     },
     "execution_count": 97,
     "metadata": {},
     "output_type": "execute_result"
    }
   ],
   "source": [
    "GB_reg.fit(X_train, y_train)"
   ]
  },
  {
   "cell_type": "code",
   "execution_count": 98,
   "id": "d128b7ae",
   "metadata": {},
   "outputs": [],
   "source": [
    "y_pred = GB_reg.predict(X_test)"
   ]
  },
  {
   "cell_type": "code",
   "execution_count": 99,
   "id": "e946b009",
   "metadata": {},
   "outputs": [
    {
     "name": "stdout",
     "output_type": "stream",
     "text": [
      "MAE  of Gradient boost model is:  0.3322188785048196\n",
      "R2  of Gradient boost model is:  0.8922320140386145\n",
      "RMSE of Gradient boost model is:  0.19158539064930014\n"
     ]
    }
   ],
   "source": [
    "GB_reg_mae = mean_absolute_error(y_test, y_pred)\n",
    "GB_reg_r2 = r2_score(y_test, y_pred)\n",
    "GB_reg_rmse = mean_squared_error(y_test, y_pred)\n",
    "print(\"MAE  of Gradient boost model is: \", GB_reg_mae)\n",
    "print(\"R2  of Gradient boost model is: \", GB_reg_r2)\n",
    "print(\"RMSE of Gradient boost model is: \", GB_reg_rmse)"
   ]
  },
  {
   "cell_type": "code",
   "execution_count": 99,
   "id": "a1f95461",
   "metadata": {},
   "outputs": [],
   "source": [
    "from sklearn.model_selection import GridSearchCV"
   ]
  },
  {
   "cell_type": "code",
   "execution_count": 102,
   "id": "258642fe",
   "metadata": {},
   "outputs": [
    {
     "data": {
      "text/plain": [
       "({'learning_rate': 0.1, 'max_depth': 4, 'n_estimators': 100},\n",
       " 0.982561393359006,\n",
       " False)"
      ]
     },
     "execution_count": 102,
     "metadata": {},
     "output_type": "execute_result"
    }
   ],
   "source": [
    "GB_reg2 = {'learning_rate':[0.15,0.1,0.10,0.05], 'n_estimators':[10,30,50,100],'max_depth':[2,4,6,8]}\n",
    "tuning = GridSearchCV(estimator=GradientBoostingRegressor(), param_grid=GB_reg2, scoring='r2')\n",
    "tuning.fit(X_train, y_train)\n",
    "tuning.best_params_,tuning.best_score_"
   ]
  },
  {
   "cell_type": "code",
   "execution_count": 103,
   "id": "5315ecd6",
   "metadata": {},
   "outputs": [
    {
     "name": "stdout",
     "output_type": "stream",
     "text": [
      "Gradient boosting accuracy is: 97.04207299894362\n"
     ]
    }
   ],
   "source": [
    "GB_score = cross_val_score(tuning, X_test, y_test, cv=5)\n",
    "print(\"Cross validation score for Gradient boosting accuracy is: {}\".format(GB_score.mean()*100))"
   ]
  },
  {
   "cell_type": "code",
   "execution_count": 100,
   "id": "654fea91",
   "metadata": {},
   "outputs": [],
   "source": [
    "GB2_reg = GradientBoostingRegressor(max_depth=4,n_estimators=100,learning_rate=0.1)"
   ]
  },
  {
   "cell_type": "code",
   "execution_count": 101,
   "id": "c6525498",
   "metadata": {},
   "outputs": [
    {
     "data": {
      "text/html": [
       "<style>#sk-container-id-2 {color: black;background-color: white;}#sk-container-id-2 pre{padding: 0;}#sk-container-id-2 div.sk-toggleable {background-color: white;}#sk-container-id-2 label.sk-toggleable__label {cursor: pointer;display: block;width: 100%;margin-bottom: 0;padding: 0.3em;box-sizing: border-box;text-align: center;}#sk-container-id-2 label.sk-toggleable__label-arrow:before {content: \"▸\";float: left;margin-right: 0.25em;color: #696969;}#sk-container-id-2 label.sk-toggleable__label-arrow:hover:before {color: black;}#sk-container-id-2 div.sk-estimator:hover label.sk-toggleable__label-arrow:before {color: black;}#sk-container-id-2 div.sk-toggleable__content {max-height: 0;max-width: 0;overflow: hidden;text-align: left;background-color: #f0f8ff;}#sk-container-id-2 div.sk-toggleable__content pre {margin: 0.2em;color: black;border-radius: 0.25em;background-color: #f0f8ff;}#sk-container-id-2 input.sk-toggleable__control:checked~div.sk-toggleable__content {max-height: 200px;max-width: 100%;overflow: auto;}#sk-container-id-2 input.sk-toggleable__control:checked~label.sk-toggleable__label-arrow:before {content: \"▾\";}#sk-container-id-2 div.sk-estimator input.sk-toggleable__control:checked~label.sk-toggleable__label {background-color: #d4ebff;}#sk-container-id-2 div.sk-label input.sk-toggleable__control:checked~label.sk-toggleable__label {background-color: #d4ebff;}#sk-container-id-2 input.sk-hidden--visually {border: 0;clip: rect(1px 1px 1px 1px);clip: rect(1px, 1px, 1px, 1px);height: 1px;margin: -1px;overflow: hidden;padding: 0;position: absolute;width: 1px;}#sk-container-id-2 div.sk-estimator {font-family: monospace;background-color: #f0f8ff;border: 1px dotted black;border-radius: 0.25em;box-sizing: border-box;margin-bottom: 0.5em;}#sk-container-id-2 div.sk-estimator:hover {background-color: #d4ebff;}#sk-container-id-2 div.sk-parallel-item::after {content: \"\";width: 100%;border-bottom: 1px solid gray;flex-grow: 1;}#sk-container-id-2 div.sk-label:hover label.sk-toggleable__label {background-color: #d4ebff;}#sk-container-id-2 div.sk-serial::before {content: \"\";position: absolute;border-left: 1px solid gray;box-sizing: border-box;top: 0;bottom: 0;left: 50%;z-index: 0;}#sk-container-id-2 div.sk-serial {display: flex;flex-direction: column;align-items: center;background-color: white;padding-right: 0.2em;padding-left: 0.2em;position: relative;}#sk-container-id-2 div.sk-item {position: relative;z-index: 1;}#sk-container-id-2 div.sk-parallel {display: flex;align-items: stretch;justify-content: center;background-color: white;position: relative;}#sk-container-id-2 div.sk-item::before, #sk-container-id-2 div.sk-parallel-item::before {content: \"\";position: absolute;border-left: 1px solid gray;box-sizing: border-box;top: 0;bottom: 0;left: 50%;z-index: -1;}#sk-container-id-2 div.sk-parallel-item {display: flex;flex-direction: column;z-index: 1;position: relative;background-color: white;}#sk-container-id-2 div.sk-parallel-item:first-child::after {align-self: flex-end;width: 50%;}#sk-container-id-2 div.sk-parallel-item:last-child::after {align-self: flex-start;width: 50%;}#sk-container-id-2 div.sk-parallel-item:only-child::after {width: 0;}#sk-container-id-2 div.sk-dashed-wrapped {border: 1px dashed gray;margin: 0 0.4em 0.5em 0.4em;box-sizing: border-box;padding-bottom: 0.4em;background-color: white;}#sk-container-id-2 div.sk-label label {font-family: monospace;font-weight: bold;display: inline-block;line-height: 1.2em;}#sk-container-id-2 div.sk-label-container {text-align: center;}#sk-container-id-2 div.sk-container {/* jupyter's `normalize.less` sets `[hidden] { display: none; }` but bootstrap.min.css set `[hidden] { display: none !important; }` so we also need the `!important` here to be able to override the default hidden behavior on the sphinx rendered scikit-learn.org. See: https://github.com/scikit-learn/scikit-learn/issues/21755 */display: inline-block !important;position: relative;}#sk-container-id-2 div.sk-text-repr-fallback {display: none;}</style><div id=\"sk-container-id-2\" class=\"sk-top-container\"><div class=\"sk-text-repr-fallback\"><pre>GradientBoostingRegressor(max_depth=4)</pre><b>In a Jupyter environment, please rerun this cell to show the HTML representation or trust the notebook. <br />On GitHub, the HTML representation is unable to render, please try loading this page with nbviewer.org.</b></div><div class=\"sk-container\" hidden><div class=\"sk-item\"><div class=\"sk-estimator sk-toggleable\"><input class=\"sk-toggleable__control sk-hidden--visually\" id=\"sk-estimator-id-2\" type=\"checkbox\" checked><label for=\"sk-estimator-id-2\" class=\"sk-toggleable__label sk-toggleable__label-arrow\">GradientBoostingRegressor</label><div class=\"sk-toggleable__content\"><pre>GradientBoostingRegressor(max_depth=4)</pre></div></div></div></div></div>"
      ],
      "text/plain": [
       "GradientBoostingRegressor(max_depth=4)"
      ]
     },
     "execution_count": 101,
     "metadata": {},
     "output_type": "execute_result"
    }
   ],
   "source": [
    "GB2_reg.fit(X_train, y_train)"
   ]
  },
  {
   "cell_type": "code",
   "execution_count": 102,
   "id": "6201d12c",
   "metadata": {},
   "outputs": [],
   "source": [
    "y_pred2 = GB2_reg.predict(X_test)"
   ]
  },
  {
   "cell_type": "code",
   "execution_count": 103,
   "id": "1e7d9874",
   "metadata": {},
   "outputs": [
    {
     "name": "stdout",
     "output_type": "stream",
     "text": [
      "MAE  of Gradient boost model is:  0.045660173924289456\n",
      "R2  of Gradient boost model is:  0.9887774826827239\n",
      "RMSE of Gradient boost model is:  0.019950919051871987\n"
     ]
    }
   ],
   "source": [
    "GB2_reg_mae = mean_absolute_error(y_test, y_pred2)\n",
    "GB2_reg_r2 = r2_score(y_test, y_pred2)\n",
    "GB2_reg_rmse = mean_squared_error(y_test, y_pred2)\n",
    "print(\"MAE  of Gradient boost model is: \", GB2_reg_mae)\n",
    "print(\"R2  of Gradient boost model is: \", GB2_reg_r2)\n",
    "print(\"RMSE of Gradient boost model is: \", GB2_reg_rmse)"
   ]
  },
  {
   "cell_type": "markdown",
   "id": "ac1519ef",
   "metadata": {},
   "source": [
    "# "
   ]
  }
 ],
 "metadata": {
  "kernelspec": {
   "display_name": "Python 3",
   "language": "python",
   "name": "python3"
  },
  "language_info": {
   "codemirror_mode": {
    "name": "ipython",
    "version": 3
   },
   "file_extension": ".py",
   "mimetype": "text/x-python",
   "name": "python",
   "nbconvert_exporter": "python",
   "pygments_lexer": "ipython3",
   "version": "3.8.8"
  }
 },
 "nbformat": 4,
 "nbformat_minor": 5
}
